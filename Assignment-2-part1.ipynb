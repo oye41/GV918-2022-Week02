{
  "nbformat": 4,
  "nbformat_minor": 0,
  "metadata": {
    "colab": {
      "provenance": [],
      "collapsed_sections": [],
      "toc_visible": true
    },
    "kernelspec": {
      "name": "python3",
      "display_name": "Python 3"
    },
    "language_info": {
      "name": "python"
    }
  },
  "cells": [
    {
      "cell_type": "markdown",
      "metadata": {
        "id": "ZNOJsvnByeTX"
      },
      "source": [
        "# Assignment Instruction\n",
        "\n",
        "This is Part 1 of assignment 2. It amounts to 40 percent of the grade.\n",
        "\n",
        "In this part of the assignment, you will scrape the list of postgraduate modules offered by the Department of Government, University of Essex. The starting url is https://www1.essex.ac.uk/modules/modules.aspx?department=GV&filter=PG&year=22&campus=CO&level=&zs=true. \n",
        "\n",
        "\n"
      ]
    },
    {
      "cell_type": "code",
      "metadata": {
        "id": "ZRs5fNKVoSza"
      },
      "source": [
        "from urllib.request import urlopen\n",
        "from bs4 import BeautifulSoup\n",
        "import pandas as pd\n",
        "from time import sleep\n",
        "import re"
      ],
      "execution_count": null,
      "outputs": []
    },
    {
      "cell_type": "markdown",
      "metadata": {
        "id": "vK4ElCXGzBhs"
      },
      "source": [
        "# Get the table as DataFrame (10 percent)\n",
        "\n",
        "- Get the webpage and convert the table there into a pandas DataFrame"
      ]
    },
    {
      "cell_type": "code",
      "metadata": {
        "id": "8fpCOlKjoOP0"
      },
      "source": [
        "url = 'https://www1.essex.ac.uk/modules/modules.aspx?department=GV&filter=PG&year=22&campus=CO&level=&zs=true'"
      ],
      "execution_count": null,
      "outputs": []
    },
    {
      "cell_type": "code",
      "metadata": {
        "id": "f4otG6YcoqF-"
      },
      "source": [
        "html = urlopen(url)\n",
        "bs = BeautifulSoup(html, 'html.parser')"
      ],
      "execution_count": null,
      "outputs": []
    },
    {
      "cell_type": "markdown",
      "metadata": {
        "id": "--mbIEbCzj3i"
      },
      "source": [
        "- How many modules (answer from the number of rows in the DataFrame)?"
      ]
    },
    {
      "cell_type": "code",
      "metadata": {
        "id": "HEPdKKLPOva4"
      },
      "source": [],
      "execution_count": null,
      "outputs": []
    },
    {
      "cell_type": "markdown",
      "metadata": {
        "id": "riQ2kRvRzwrZ"
      },
      "source": [
        "- Print several rows from the dataframe"
      ]
    },
    {
      "cell_type": "code",
      "metadata": {
        "id": "zIuLs8dFOspY"
      },
      "source": [],
      "execution_count": null,
      "outputs": []
    },
    {
      "cell_type": "markdown",
      "metadata": {
        "id": "eyEVD8sJz1cM"
      },
      "source": [
        "## Extract links\n",
        "\n",
        "Now let's get the links in the table and construct the full url. Once a list of url is obtained, put it in the dataframe as a new column.\n"
      ]
    },
    {
      "cell_type": "code",
      "metadata": {
        "id": "zyt23HGEPXDZ"
      },
      "source": [],
      "execution_count": null,
      "outputs": []
    },
    {
      "cell_type": "markdown",
      "metadata": {
        "id": "COkAGauQ0ZkQ"
      },
      "source": [
        "# Visit a single page and extract the information (10 percent)\n",
        "\n",
        "- Use the first link (https://www1.essex.ac.uk/modules/Default.aspx?coursecode=GV505&level=7&period=AU&campus=CO&year=21)\n",
        "- Visit this page and extract the following information\n",
        "  - Module supervisors name\n",
        "  - Module supervisors email adress\n",
        "  - Weight of coursework in overall assessement\n",
        "  - Weight of exam in overall assessement\n",
        "- Once extract the information, construct a dataframe with one row \n",
        "\n",
        "The dataframe should look like this:\n",
        "\n",
        "| sup_name          | sup_email                 | Coursework | Exam |\n",
        "|-------------------|---------------------------|------------|------|\n",
        "| Prof Robert Johns | mailto:rajohn@essex.ac.uk | 100%       | 0%   |\n",
        "\n"
      ]
    },
    {
      "cell_type": "code",
      "metadata": {
        "id": "89-yKMTf0ZAl"
      },
      "source": [],
      "execution_count": null,
      "outputs": []
    },
    {
      "cell_type": "markdown",
      "metadata": {
        "id": "c8J2wjUn3Cnv"
      },
      "source": [
        "# Construct a function (8 percent)"
      ]
    },
    {
      "cell_type": "markdown",
      "metadata": {
        "id": "dThDqh1o3Qa-"
      },
      "source": [
        "Combine the work above and construct a function to do the job. The template is below. \n",
        "\n",
        "Try a few urls to check if the function works as intended."
      ]
    },
    {
      "cell_type": "code",
      "metadata": {
        "id": "HVAQQ-Ha3CQ6"
      },
      "source": [
        "def fetch_indpage(ind_url, sleep_sec = 3):\n",
        "  print(ind_url)\n",
        "  bs_ind = BeautifulSoup(urlopen(ind_url), 'html.parser')\n",
        "  ## provide some code to extract the relevant information\n",
        "  return(None)\n"
      ],
      "execution_count": null,
      "outputs": []
    },
    {
      "cell_type": "markdown",
      "metadata": {
        "id": "QkCd1JwC3nwD"
      },
      "source": [
        "# Use the function above and get information from all links (12 percent)\n",
        "\n",
        "1. Use the function above and get the information from all pages\n",
        "2. Then create a dataframe by concatinating the results\n",
        "3. Concatinate 2. with the dataframe you created in the beginning\n",
        "4. Save as a csv file\n",
        "\n",
        "Note: There will be missing information in some pages (e.g. https://www1.essex.ac.uk/modules/Default.aspx?coursecode=GV602&level=7&period=FY&campus=CO&year=21). That might cause errors to your function. You need to modify the function to handle these errors. You may be able to use `if .. else ..`, as we saw in the class, or may need to have a proper error handling with `try: ... except: ...`. \n",
        "See https://www.w3schools.com/python/python_try_except.asp for a simple tutorial.\n",
        "\n"
      ]
    },
    {
      "cell_type": "code",
      "metadata": {
        "id": "tOduEFzAxSiQ"
      },
      "source": [],
      "execution_count": null,
      "outputs": []
    }
  ]
}
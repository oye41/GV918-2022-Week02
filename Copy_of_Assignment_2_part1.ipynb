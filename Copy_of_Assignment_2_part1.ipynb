{
  "nbformat": 4,
  "nbformat_minor": 0,
  "metadata": {
    "colab": {
      "provenance": [],
      "toc_visible": true,
      "include_colab_link": true
    },
    "kernelspec": {
      "name": "python3",
      "display_name": "Python 3"
    },
    "language_info": {
      "name": "python"
    }
  },
  "cells": [
    {
      "cell_type": "markdown",
      "metadata": {
        "id": "view-in-github",
        "colab_type": "text"
      },
      "source": [
        "<a href=\"https://colab.research.google.com/github/oye41/GV918-2022-Week02/blob/main/Copy_of_Assignment_2_part1.ipynb\" target=\"_parent\"><img src=\"https://colab.research.google.com/assets/colab-badge.svg\" alt=\"Open In Colab\"/></a>"
      ]
    },
    {
      "cell_type": "markdown",
      "metadata": {
        "id": "ZNOJsvnByeTX"
      },
      "source": [
        "# Assignment Instruction\n",
        "\n",
        "This is Part 1 of assignment 2. It amounts to 40 percent of the grade.\n",
        "\n",
        "In this part of the assignment, you will scrape the list of postgraduate modules offered by the Department of Government, University of Essex. The starting url is https://www1.essex.ac.uk/modules/modules.aspx?department=GV&filter=PG&year=22&campus=CO&level=&zs=true. \n",
        "\n",
        "\n"
      ]
    },
    {
      "cell_type": "code",
      "metadata": {
        "id": "ZRs5fNKVoSza"
      },
      "source": [
        "from urllib.request import urlopen\n",
        "from bs4 import BeautifulSoup\n"
      ],
      "execution_count": 21,
      "outputs": []
    },
    {
      "cell_type": "markdown",
      "metadata": {
        "id": "vK4ElCXGzBhs"
      },
      "source": [
        "# Get the table as DataFrame (10 percent)\n",
        "\n",
        "- Get the webpage and convert the table there into a pandas DataFrame"
      ]
    },
    {
      "cell_type": "code",
      "metadata": {
        "id": "8fpCOlKjoOP0"
      },
      "source": [
        "url = 'https://www1.essex.ac.uk/modules/modules.aspx?department=GV&filter=PG&year=22&campus=CO&level=&zs=true'"
      ],
      "execution_count": 22,
      "outputs": []
    },
    {
      "cell_type": "code",
      "metadata": {
        "id": "f4otG6YcoqF-",
        "colab": {
          "base_uri": "https://localhost:8080/"
        },
        "outputId": "b38d7d9b-3000-4280-c841-7ac2f920da35"
      },
      "source": [
        "html = urlopen(url)\n",
        "bs = BeautifulSoup(html, 'html.parser')\n",
        "bs.findAll('td',{'data-label':'Title'})"
      ],
      "execution_count": 23,
      "outputs": [
        {
          "output_type": "execute_result",
          "data": {
            "text/plain": [
              "[<td data-label=\"Title\">\n",
              " <a href=\"Default.aspx?coursecode=GV508&amp;level=7&amp;period=SP&amp;campus=CO&amp;year=22\">The Analysis of Conflict and Peace</a>\n",
              " </td>, <td data-label=\"Title\">\n",
              " <a href=\"Default.aspx?coursecode=GV510&amp;level=7&amp;period=AU&amp;campus=CO&amp;year=22\">Democracy, Violence, and Inequality in Latin America</a>\n",
              " </td>, <td data-label=\"Title\">\n",
              " <a href=\"Default.aspx?coursecode=GV517&amp;level=7&amp;period=AU&amp;campus=CO&amp;year=22\">International Security Studies</a>\n",
              " </td>, <td data-label=\"Title\">\n",
              " <a href=\"Default.aspx?coursecode=GV517&amp;level=7&amp;period=FY&amp;campus=CO&amp;year=22\">International Security Studies</a>\n",
              " </td>, <td data-label=\"Title\">\n",
              " <a href=\"Default.aspx?coursecode=GV522&amp;level=7&amp;period=SP&amp;campus=CO&amp;year=22\">Gender and Armed Conflict</a>\n",
              " </td>, <td data-label=\"Title\">\n",
              " <a href=\"Default.aspx?coursecode=GV523&amp;level=7&amp;period=AU&amp;campus=CO&amp;year=22\">The Politics of Modern China</a>\n",
              " </td>, <td data-label=\"Title\">\n",
              " <a href=\"Default.aspx?coursecode=GV525&amp;level=7&amp;period=SP&amp;campus=CO&amp;year=22\">Israeli Politics</a>\n",
              " </td>, <td data-label=\"Title\">\n",
              " <a href=\"Default.aspx?coursecode=GV526&amp;level=7&amp;period=AU&amp;campus=CO&amp;year=22\">Politics of South Asia</a>\n",
              " </td>, <td data-label=\"Title\">\n",
              " <a href=\"Default.aspx?coursecode=GV528&amp;level=7&amp;period=SP&amp;campus=CO&amp;year=22\">Political Theory and Gender</a>\n",
              " </td>, <td data-label=\"Title\">\n",
              " <a href=\"Default.aspx?coursecode=GV529&amp;level=7&amp;period=SP&amp;campus=CO&amp;year=22\">War and Conflict in the Post-Soviet World</a>\n",
              " </td>, <td data-label=\"Title\">\n",
              " <a href=\"Default.aspx?coursecode=GV538&amp;level=7&amp;period=SP&amp;campus=CO&amp;year=22\">From Cradle to Grave: Social Justice in Childhood, Adulthood, and Death</a>\n",
              " </td>, <td data-label=\"Title\">\n",
              " <a href=\"Default.aspx?coursecode=GV554&amp;level=7&amp;period=SP&amp;campus=CO&amp;year=22\">Migration, Politics and International Development</a>\n",
              " </td>, <td data-label=\"Title\">\n",
              " <a href=\"Default.aspx?coursecode=GV591&amp;level=7&amp;period=AU&amp;campus=CO&amp;year=22\">Comparative Environmental Politics</a>\n",
              " </td>, <td data-label=\"Title\">\n",
              " <a href=\"Default.aspx?coursecode=GV591&amp;level=7&amp;period=FY&amp;campus=CO&amp;year=22\">Environmental Politics</a>\n",
              " </td>, <td data-label=\"Title\">\n",
              " <a href=\"Default.aspx?coursecode=GV591&amp;level=7&amp;period=SP&amp;campus=CO&amp;year=22\">International Environmental Politics</a>\n",
              " </td>, <td data-label=\"Title\">\n",
              " <a href=\"Default.aspx?coursecode=GV602&amp;level=7&amp;period=FY&amp;campus=CO&amp;year=22\">Social Science Data Analysis: Year 2</a>\n",
              " </td>, <td data-label=\"Title\">\n",
              " <a href=\"Default.aspx?coursecode=GV612&amp;level=7&amp;period=LV&amp;campus=CO&amp;year=22\">Essex Summer School Module 30 Credits</a>\n",
              " </td>, <td data-label=\"Title\">\n",
              " <a href=\"Default.aspx?coursecode=GV613&amp;level=7&amp;period=LV&amp;campus=CO&amp;year=22\">Essex Summer School Module 30 Credits</a>\n",
              " </td>, <td data-label=\"Title\">\n",
              " <a href=\"Default.aspx?coursecode=GV900&amp;level=7&amp;period=FY&amp;campus=CO&amp;year=22\">Political Explanation</a>\n",
              " </td>, <td data-label=\"Title\">\n",
              " <a href=\"Default.aspx?coursecode=GV902&amp;level=7&amp;period=FY&amp;campus=CO&amp;year=22\">Theories of International Relations</a>\n",
              " </td>, <td data-label=\"Title\">\n",
              " <a href=\"Default.aspx?coursecode=GV903&amp;level=7&amp;period=FY&amp;campus=CO&amp;year=22\">Advanced Research Methods</a>\n",
              " </td>, <td data-label=\"Title\">\n",
              " <a href=\"Default.aspx?coursecode=GV906&amp;level=7&amp;period=AU&amp;campus=CO&amp;year=22\">Conflict Resolution</a>\n",
              " </td>, <td data-label=\"Title\">\n",
              " <a href=\"Default.aspx?coursecode=GV906&amp;level=7&amp;period=FY&amp;campus=CO&amp;year=22\">Conflict Resolution</a>\n",
              " </td>, <td data-label=\"Title\">\n",
              " <a href=\"Default.aspx?coursecode=GV906&amp;level=7&amp;period=SP&amp;campus=CO&amp;year=22\">Conflict Resolution and Peace</a>\n",
              " </td>, <td data-label=\"Title\">\n",
              " <a href=\"Default.aspx?coursecode=GV907&amp;level=7&amp;period=FY&amp;campus=CO&amp;year=22\">Political Economy</a>\n",
              " </td>, <td data-label=\"Title\">\n",
              " <a href=\"Default.aspx?coursecode=GV908&amp;level=7&amp;period=FY&amp;campus=CO&amp;year=22\">Political Theory</a>\n",
              " </td>, <td data-label=\"Title\">\n",
              " <a href=\"Default.aspx?coursecode=GV909&amp;level=7&amp;period=AU&amp;campus=CO&amp;year=22\">Research Seminar in Political Theory and Methods</a>\n",
              " </td>, <td data-label=\"Title\">\n",
              " <a href=\"Default.aspx?coursecode=GV914&amp;level=7&amp;period=SP&amp;campus=CO&amp;year=22\">Research Design</a>\n",
              " </td>, <td data-label=\"Title\">\n",
              " <a href=\"Default.aspx?coursecode=GV915&amp;level=7&amp;period=SU&amp;campus=CO&amp;year=22\">Applied Research Design</a>\n",
              " </td>, <td data-label=\"Title\">\n",
              " <a href=\"Default.aspx?coursecode=GV916&amp;level=7&amp;period=SP&amp;campus=CO&amp;year=22\">Political Economy of Development</a>\n",
              " </td>, <td data-label=\"Title\">\n",
              " <a href=\"Default.aspx?coursecode=GV917&amp;level=7&amp;period=FY&amp;campus=CO&amp;year=22\">Public Opinion and Political Behaviour</a>\n",
              " </td>, <td data-label=\"Title\">\n",
              " <a href=\"Default.aspx?coursecode=GV918&amp;level=7&amp;period=AU&amp;campus=CO&amp;year=22\">Data for Social Data Science</a>\n",
              " </td>, <td data-label=\"Title\">\n",
              " <a href=\"Default.aspx?coursecode=GV922&amp;level=7&amp;period=SP&amp;campus=CO&amp;year=22\">Concepts and Measurements in Comparative Political Research</a>\n",
              " </td>, <td data-label=\"Title\">\n",
              " <a href=\"Default.aspx?coursecode=GV923&amp;level=7&amp;period=AU&amp;campus=CO&amp;year=22\">Foundations of Public Policy</a>\n",
              " </td>, <td data-label=\"Title\">\n",
              " <a href=\"Default.aspx?coursecode=GV924&amp;level=7&amp;period=SP&amp;campus=CO&amp;year=22\">The Politics of Public Policy</a>\n",
              " </td>, <td data-label=\"Title\">\n",
              " <a href=\"Default.aspx?coursecode=GV925&amp;level=7&amp;period=SP&amp;campus=CO&amp;year=22\">Terrorism and Counterterrorism</a>\n",
              " </td>, <td data-label=\"Title\">\n",
              " <a href=\"Default.aspx?coursecode=GV926&amp;level=7&amp;period=SP&amp;campus=CO&amp;year=22\">International Current Affairs: Understanding our World</a>\n",
              " </td>, <td data-label=\"Title\">\n",
              " <a href=\"Default.aspx?coursecode=GV928&amp;level=7&amp;period=AU&amp;campus=CO&amp;year=22\">Political Psychology</a>\n",
              " </td>, <td data-label=\"Title\">\n",
              " <a href=\"Default.aspx?coursecode=GV944&amp;level=7&amp;period=SP&amp;campus=CO&amp;year=22\">Insurgents, Criminals and Terrorists</a>\n",
              " </td>, <td data-label=\"Title\">\n",
              " <a href=\"Default.aspx?coursecode=GV945&amp;level=7&amp;period=AU&amp;campus=CO&amp;year=22\">International Institutions and Global Governance</a>\n",
              " </td>, <td data-label=\"Title\">\n",
              " <a href=\"Default.aspx?coursecode=GV952&amp;level=7&amp;period=FY&amp;campus=CO&amp;year=22\">Comparative European Politics</a>\n",
              " </td>, <td data-label=\"Title\">\n",
              " <a href=\"Default.aspx?coursecode=GV952&amp;level=7&amp;period=SP&amp;campus=CO&amp;year=22\">Comparative European Politics</a>\n",
              " </td>, <td data-label=\"Title\">\n",
              " <a href=\"Default.aspx?coursecode=GV958&amp;level=7&amp;period=FY&amp;campus=CO&amp;year=22\">Theory and Explanation in Political Science</a>\n",
              " </td>, <td data-label=\"Title\">\n",
              " <a href=\"Default.aspx?coursecode=GV963&amp;level=7&amp;period=FY&amp;campus=CO&amp;year=22\">United States Politics</a>\n",
              " </td>, <td data-label=\"Title\">\n",
              " <a href=\"Default.aspx?coursecode=GV970&amp;level=8&amp;period=FY&amp;campus=CO&amp;year=22\">Doctoral Research Seminar in International Relations</a>\n",
              " </td>, <td data-label=\"Title\">\n",
              " <a href=\"Default.aspx?coursecode=GV971&amp;level=8&amp;period=FY&amp;campus=CO&amp;year=22\">Doctoral Research Seminar in Political Economy</a>\n",
              " </td>, <td data-label=\"Title\">\n",
              " <a href=\"Default.aspx?coursecode=GV975&amp;level=8&amp;period=FY&amp;campus=CO&amp;year=22\">Doctoral Research Seminar in Elections, Public Opinion, and Parties</a>\n",
              " </td>, <td data-label=\"Title\">\n",
              " <a href=\"Default.aspx?coursecode=GV976&amp;level=8&amp;period=FY&amp;campus=CO&amp;year=22\">Research Design</a>\n",
              " </td>, <td data-label=\"Title\">\n",
              " <a href=\"Default.aspx?coursecode=GV988&amp;level=7&amp;period=FY&amp;campus=CO&amp;year=22\">Ideology and Political Discourse</a>\n",
              " </td>, <td data-label=\"Title\">\n",
              " <a href=\"Default.aspx?coursecode=GV990&amp;level=8&amp;period=FY&amp;campus=CO&amp;year=22\">PhD Seminar in Ideology and Discourse Analysis</a>\n",
              " </td>, <td data-label=\"Title\">\n",
              " <a href=\"Default.aspx?coursecode=GV992&amp;level=8&amp;period=FY&amp;campus=CO&amp;year=22\">Political Institutions</a>\n",
              " </td>, <td data-label=\"Title\">\n",
              " <a href=\"Default.aspx?coursecode=GV993&amp;level=7&amp;period=FY&amp;campus=CO&amp;year=22\">MA Dissertation</a>\n",
              " </td>, <td data-label=\"Title\">\n",
              " <a href=\"Default.aspx?coursecode=GV994&amp;level=8&amp;period=FY&amp;campus=CO&amp;year=22\">Professional Development Seminar</a>\n",
              " </td>, <td data-label=\"Title\">\n",
              " <a href=\"Default.aspx?coursecode=GV995&amp;level=7&amp;period=FY&amp;campus=CO&amp;year=22\">MRES Dissertation</a>\n",
              " </td>, <td data-label=\"Title\">\n",
              " <a href=\"Default.aspx?coursecode=GV997&amp;level=8&amp;period=FY&amp;campus=CO&amp;year=22\">Government - Completion</a>\n",
              " </td>, <td data-label=\"Title\">\n",
              " <a href=\"Default.aspx?coursecode=GV999&amp;level=8&amp;period=FY&amp;campus=CO&amp;year=22\">Government - Research</a>\n",
              " </td>]"
            ]
          },
          "metadata": {},
          "execution_count": 23
        }
      ]
    },
    {
      "cell_type": "markdown",
      "metadata": {
        "id": "--mbIEbCzj3i"
      },
      "source": [
        "- How many modules (answer from the number of rows in the DataFrame)?"
      ]
    },
    {
      "cell_type": "code",
      "metadata": {
        "id": "HEPdKKLPOva4",
        "outputId": "18045888-6d0c-4ec9-96b8-b84317fde7fe",
        "colab": {
          "base_uri": "https://localhost:8080/"
        }
      },
      "source": [
        "counter = 0\n",
        "for link in bs.findAll('td',{'data-label':'Title'}):\n",
        "    counter+=1\n",
        "print(counter)"
      ],
      "execution_count": 24,
      "outputs": [
        {
          "output_type": "stream",
          "name": "stdout",
          "text": [
            "56\n"
          ]
        }
      ]
    },
    {
      "cell_type": "markdown",
      "metadata": {
        "id": "riQ2kRvRzwrZ"
      },
      "source": [
        "- Print several rows from the dataframe"
      ]
    },
    {
      "cell_type": "code",
      "metadata": {
        "id": "zIuLs8dFOspY",
        "colab": {
          "base_uri": "https://localhost:8080/"
        },
        "outputId": "d2d64a2a-dddb-462b-cf75-0cca13a555ba"
      },
      "source": [
        "counter=0\n",
        "datag=[]\n",
        "\n",
        "table = bs.find('table')\n",
        "rows=table.find_all(\"tr\")\n",
        "#print(rows)\n",
        "\n",
        "for row in rows[1:]:\n",
        "    cells=row.find_all(['td','th'])\n",
        "    cells_text = [cell.get_text(strip=True) for cell in cells]\n",
        "    print(cells_text)\n",
        "    datag.append(cells_text)\n",
        "    counter+=1"
      ],
      "execution_count": 25,
      "outputs": [
        {
          "output_type": "stream",
          "name": "stdout",
          "text": [
            "['GV508-7-SP-CO', 'The Analysis of Conflict and Peace', 'CO']\n",
            "['GV510-7-AU-CO', 'Democracy, Violence, and Inequality in Latin America', 'CO']\n",
            "['GV517-7-AU-CO', 'International Security Studies', 'CO']\n",
            "['GV517-7-FY-CO', 'International Security Studies', 'CO']\n",
            "['GV522-7-SP-CO', 'Gender and Armed Conflict', 'CO']\n",
            "['GV523-7-AU-CO', 'The Politics of Modern China', 'CO']\n",
            "['GV525-7-SP-CO', 'Israeli Politics', 'CO']\n",
            "['GV526-7-AU-CO', 'Politics of South Asia', 'CO']\n",
            "['GV528-7-SP-CO', 'Political Theory and Gender', 'CO']\n",
            "['GV529-7-SP-CO', 'War and Conflict in the Post-Soviet World', 'CO']\n",
            "['GV538-7-SP-CO', 'From Cradle to Grave: Social Justice in Childhood, Adulthood, and Death', 'CO']\n",
            "['GV554-7-SP-CO', 'Migration, Politics and International Development', 'CO']\n",
            "['GV591-7-AU-CO', 'Comparative Environmental Politics', 'CO']\n",
            "['GV591-7-FY-CO', 'Environmental Politics', 'CO']\n",
            "['GV591-7-SP-CO', 'International Environmental Politics', 'CO']\n",
            "['GV602-7-FY-CO', 'Social Science Data Analysis: Year 2', 'CO']\n",
            "['GV612-7-LV-CO', 'Essex Summer School Module 30 Credits', 'CO']\n",
            "['GV613-7-LV-CO', 'Essex Summer School Module 30 Credits', 'CO']\n",
            "['GV900-7-FY-CO', 'Political Explanation', 'CO']\n",
            "['GV902-7-FY-CO', 'Theories of International Relations', 'CO']\n",
            "['GV903-7-FY-CO', 'Advanced Research Methods', 'CO']\n",
            "['GV906-7-AU-CO', 'Conflict Resolution', 'CO']\n",
            "['GV906-7-FY-CO', 'Conflict Resolution', 'CO']\n",
            "['GV906-7-SP-CO', 'Conflict Resolution and Peace', 'CO']\n",
            "['GV907-7-FY-CO', 'Political Economy', 'CO']\n",
            "['GV908-7-FY-CO', 'Political Theory', 'CO']\n",
            "['GV909-7-AU-CO', 'Research Seminar in Political Theory and Methods', 'CO']\n",
            "['GV914-7-SP-CO', 'Research Design', 'CO']\n",
            "['GV915-7-SU-CO', 'Applied Research Design', 'CO']\n",
            "['GV916-7-SP-CO', 'Political Economy of Development', 'CO']\n",
            "['GV917-7-FY-CO', 'Public Opinion and Political Behaviour', 'CO']\n",
            "['GV918-7-AU-CO', 'Data for Social Data Science', 'CO']\n",
            "['GV922-7-SP-CO', 'Concepts and Measurements in Comparative Political Research', 'CO']\n",
            "['GV923-7-AU-CO', 'Foundations of Public Policy', 'CO']\n",
            "['GV924-7-SP-CO', 'The Politics of Public Policy', 'CO']\n",
            "['GV925-7-SP-CO', 'Terrorism and Counterterrorism', 'CO']\n",
            "['GV926-7-SP-CO', 'International Current Affairs: Understanding our World', 'CO']\n",
            "['GV928-7-AU-CO', 'Political Psychology', 'CO']\n",
            "['GV944-7-SP-CO', 'Insurgents, Criminals and Terrorists', 'CO']\n",
            "['GV945-7-AU-CO', 'International Institutions and Global Governance', 'CO']\n",
            "['GV952-7-FY-CO', 'Comparative European Politics', 'CO']\n",
            "['GV952-7-SP-CO', 'Comparative European Politics', 'CO']\n",
            "['GV958-7-FY-CO', 'Theory and Explanation in Political Science', 'CO']\n",
            "['GV963-7-FY-CO', 'United States Politics', 'CO']\n",
            "['GV970-8-FY-CO', 'Doctoral Research Seminar in International Relations', 'CO']\n",
            "['GV971-8-FY-CO', 'Doctoral Research Seminar in Political Economy', 'CO']\n",
            "['GV975-8-FY-CO', 'Doctoral Research Seminar in Elections, Public Opinion, and Parties', 'CO']\n",
            "['GV976-8-FY-CO', 'Research Design', 'CO']\n",
            "['GV988-7-FY-CO', 'Ideology and Political Discourse', 'CO']\n",
            "['GV990-8-FY-CO', 'PhD Seminar in Ideology and Discourse Analysis', 'CO']\n",
            "['GV992-8-FY-CO', 'Political Institutions', 'CO']\n",
            "['GV993-7-FY-CO', 'MA Dissertation', 'CO']\n",
            "['GV994-8-FY-CO', 'Professional Development Seminar', 'CO']\n",
            "['GV995-7-FY-CO', 'MRES Dissertation', 'CO']\n",
            "['GV997-8-FY-CO', 'Government - Completion', 'CO']\n",
            "['GV999-8-FY-CO', 'Government - Research', 'CO']\n"
          ]
        }
      ]
    },
    {
      "cell_type": "markdown",
      "metadata": {
        "id": "eyEVD8sJz1cM"
      },
      "source": [
        "## Extract links\n",
        "\n",
        "Now let's get the links in the table and construct the full url. Once a list of url is obtained, put it in the dataframe as a new column.\n"
      ]
    },
    {
      "cell_type": "code",
      "metadata": {
        "id": "zyt23HGEPXDZ",
        "colab": {
          "base_uri": "https://localhost:8080/"
        },
        "outputId": "099490fe-ed96-4950-fd72-35cd2e91d484"
      },
      "source": [
        "linker56 = [tag[\"href\"] for tag in bs.select(\"#ContentMain_gvResults a\")]\n",
        "\n",
        "linker56\n"
      ],
      "execution_count": 26,
      "outputs": [
        {
          "output_type": "execute_result",
          "data": {
            "text/plain": [
              "['Default.aspx?coursecode=GV508&level=7&period=SP&campus=CO&year=22',\n",
              " 'Default.aspx?coursecode=GV510&level=7&period=AU&campus=CO&year=22',\n",
              " 'Default.aspx?coursecode=GV517&level=7&period=AU&campus=CO&year=22',\n",
              " 'Default.aspx?coursecode=GV517&level=7&period=FY&campus=CO&year=22',\n",
              " 'Default.aspx?coursecode=GV522&level=7&period=SP&campus=CO&year=22',\n",
              " 'Default.aspx?coursecode=GV523&level=7&period=AU&campus=CO&year=22',\n",
              " 'Default.aspx?coursecode=GV525&level=7&period=SP&campus=CO&year=22',\n",
              " 'Default.aspx?coursecode=GV526&level=7&period=AU&campus=CO&year=22',\n",
              " 'Default.aspx?coursecode=GV528&level=7&period=SP&campus=CO&year=22',\n",
              " 'Default.aspx?coursecode=GV529&level=7&period=SP&campus=CO&year=22',\n",
              " 'Default.aspx?coursecode=GV538&level=7&period=SP&campus=CO&year=22',\n",
              " 'Default.aspx?coursecode=GV554&level=7&period=SP&campus=CO&year=22',\n",
              " 'Default.aspx?coursecode=GV591&level=7&period=AU&campus=CO&year=22',\n",
              " 'Default.aspx?coursecode=GV591&level=7&period=FY&campus=CO&year=22',\n",
              " 'Default.aspx?coursecode=GV591&level=7&period=SP&campus=CO&year=22',\n",
              " 'Default.aspx?coursecode=GV602&level=7&period=FY&campus=CO&year=22',\n",
              " 'Default.aspx?coursecode=GV612&level=7&period=LV&campus=CO&year=22',\n",
              " 'Default.aspx?coursecode=GV613&level=7&period=LV&campus=CO&year=22',\n",
              " 'Default.aspx?coursecode=GV900&level=7&period=FY&campus=CO&year=22',\n",
              " 'Default.aspx?coursecode=GV902&level=7&period=FY&campus=CO&year=22',\n",
              " 'Default.aspx?coursecode=GV903&level=7&period=FY&campus=CO&year=22',\n",
              " 'Default.aspx?coursecode=GV906&level=7&period=AU&campus=CO&year=22',\n",
              " 'Default.aspx?coursecode=GV906&level=7&period=FY&campus=CO&year=22',\n",
              " 'Default.aspx?coursecode=GV906&level=7&period=SP&campus=CO&year=22',\n",
              " 'Default.aspx?coursecode=GV907&level=7&period=FY&campus=CO&year=22',\n",
              " 'Default.aspx?coursecode=GV908&level=7&period=FY&campus=CO&year=22',\n",
              " 'Default.aspx?coursecode=GV909&level=7&period=AU&campus=CO&year=22',\n",
              " 'Default.aspx?coursecode=GV914&level=7&period=SP&campus=CO&year=22',\n",
              " 'Default.aspx?coursecode=GV915&level=7&period=SU&campus=CO&year=22',\n",
              " 'Default.aspx?coursecode=GV916&level=7&period=SP&campus=CO&year=22',\n",
              " 'Default.aspx?coursecode=GV917&level=7&period=FY&campus=CO&year=22',\n",
              " 'Default.aspx?coursecode=GV918&level=7&period=AU&campus=CO&year=22',\n",
              " 'Default.aspx?coursecode=GV922&level=7&period=SP&campus=CO&year=22',\n",
              " 'Default.aspx?coursecode=GV923&level=7&period=AU&campus=CO&year=22',\n",
              " 'Default.aspx?coursecode=GV924&level=7&period=SP&campus=CO&year=22',\n",
              " 'Default.aspx?coursecode=GV925&level=7&period=SP&campus=CO&year=22',\n",
              " 'Default.aspx?coursecode=GV926&level=7&period=SP&campus=CO&year=22',\n",
              " 'Default.aspx?coursecode=GV928&level=7&period=AU&campus=CO&year=22',\n",
              " 'Default.aspx?coursecode=GV944&level=7&period=SP&campus=CO&year=22',\n",
              " 'Default.aspx?coursecode=GV945&level=7&period=AU&campus=CO&year=22',\n",
              " 'Default.aspx?coursecode=GV952&level=7&period=FY&campus=CO&year=22',\n",
              " 'Default.aspx?coursecode=GV952&level=7&period=SP&campus=CO&year=22',\n",
              " 'Default.aspx?coursecode=GV958&level=7&period=FY&campus=CO&year=22',\n",
              " 'Default.aspx?coursecode=GV963&level=7&period=FY&campus=CO&year=22',\n",
              " 'Default.aspx?coursecode=GV970&level=8&period=FY&campus=CO&year=22',\n",
              " 'Default.aspx?coursecode=GV971&level=8&period=FY&campus=CO&year=22',\n",
              " 'Default.aspx?coursecode=GV975&level=8&period=FY&campus=CO&year=22',\n",
              " 'Default.aspx?coursecode=GV976&level=8&period=FY&campus=CO&year=22',\n",
              " 'Default.aspx?coursecode=GV988&level=7&period=FY&campus=CO&year=22',\n",
              " 'Default.aspx?coursecode=GV990&level=8&period=FY&campus=CO&year=22',\n",
              " 'Default.aspx?coursecode=GV992&level=8&period=FY&campus=CO&year=22',\n",
              " 'Default.aspx?coursecode=GV993&level=7&period=FY&campus=CO&year=22',\n",
              " 'Default.aspx?coursecode=GV994&level=8&period=FY&campus=CO&year=22',\n",
              " 'Default.aspx?coursecode=GV995&level=7&period=FY&campus=CO&year=22',\n",
              " 'Default.aspx?coursecode=GV997&level=8&period=FY&campus=CO&year=22',\n",
              " 'Default.aspx?coursecode=GV999&level=8&period=FY&campus=CO&year=22']"
            ]
          },
          "metadata": {},
          "execution_count": 26
        }
      ]
    },
    {
      "cell_type": "markdown",
      "metadata": {
        "id": "COkAGauQ0ZkQ"
      },
      "source": [
        "# Visit a single page and extract the information (10 percent)\n",
        "\n",
        "- Use the first link (https://www1.essex.ac.uk/modules/Default.aspx?coursecode=GV505&level=7&period=AU&campus=CO&year=21)\n",
        "- Visit this page and extract the following information\n",
        "  - Module supervisors name\n",
        "  - Module supervisors email adress\n",
        "  - Weight of coursework in overall assessement\n",
        "  - Weight of exam in overall assessement\n",
        "- Once extract the information, construct a dataframe with one row \n",
        "\n",
        "The dataframe should look like this:\n",
        "\n",
        "| sup_name          | sup_email                 | Coursework | Exam |\n",
        "|-------------------|---------------------------|------------|------|\n",
        "| Prof Robert Johns | mailto:rajohn@essex.ac.uk | 100%       | 0%   |\n",
        "\n"
      ]
    },
    {
      "cell_type": "code",
      "metadata": {
        "id": "89-yKMTf0ZAl",
        "colab": {
          "base_uri": "https://localhost:8080/",
          "height": 130
        },
        "outputId": "4ee244dd-712d-4027-9685-d8c57e494344"
      },
      "source": [
        "url = 'https://www1.essex.ac.uk/modules/Default.aspx?coursecode=GV505&level=7&period=AU&campus=CO&year=21'\n",
        "html = urlopen(url)\n",
        "bs = BeautifulSoup(html, 'html.parser')\n",
        "\n",
        "\n",
        "supervisor_details = bs.Select(\"#ContentMain_ModuleDirectoryDetails_lblSupervisorDetails\")\n",
        "\n",
        "email = [tag linker56[\"href\"] \n",
        "\n",
        "email\n",
        "\n",
        "['rajohn@essex.ac.uk']\n",
        "\n",
        "\n",
        "        \n",
        "\n",
        "\n",
        "\n",
        "\n",
        "\n"
      ],
      "execution_count": 34,
      "outputs": [
        {
          "output_type": "error",
          "ename": "SyntaxError",
          "evalue": "ignored",
          "traceback": [
            "\u001b[0;36m  File \u001b[0;32m\"<ipython-input-34-fa464f026f33>\"\u001b[0;36m, line \u001b[0;32m8\u001b[0m\n\u001b[0;31m    email = [tag linker56[\"href\"]\u001b[0m\n\u001b[0m                        ^\u001b[0m\n\u001b[0;31mSyntaxError\u001b[0m\u001b[0;31m:\u001b[0m invalid syntax\n"
          ]
        }
      ]
    },
    {
      "cell_type": "markdown",
      "metadata": {
        "id": "c8J2wjUn3Cnv"
      },
      "source": [
        "# Construct a function (8 percent)"
      ]
    },
    {
      "cell_type": "markdown",
      "metadata": {
        "id": "dThDqh1o3Qa-"
      },
      "source": [
        "Combine the work above and construct a function to do the job. The template is below. \n",
        "\n",
        "Try a few urls to check if the function works as intended."
      ]
    },
    {
      "cell_type": "code",
      "metadata": {
        "id": "HVAQQ-Ha3CQ6"
      },
      "source": [
        "def fetch_indpage(ind_url, sleep_sec = 3):\n",
        "  print(ind_url)\n",
        "  bs_ind = BeautifulSoup(urlopen(ind_url), 'html.parser')\n",
        "  ## provide some code to extract the relevant information\n",
        "  return(None)\n"
      ],
      "execution_count": null,
      "outputs": []
    },
    {
      "cell_type": "markdown",
      "metadata": {
        "id": "QkCd1JwC3nwD"
      },
      "source": [
        "# Use the function above and get information from all links (12 percent)\n",
        "\n",
        "1. Use the function above and get the information from all pages\n",
        "2. Then create a dataframe by concatinating the results\n",
        "3. Concatinate 2. with the dataframe you created in the beginning\n",
        "4. Save as a csv file\n",
        "\n",
        "Note: There will be missing information in some pages (e.g. https://www1.essex.ac.uk/modules/Default.aspx?coursecode=GV602&level=7&period=FY&campus=CO&year=21). That might cause errors to your function. You need to modify the function to handle these errors. You may be able to use `if .. else ..`, as we saw in the class, or may need to have a proper error handling with `try: ... except: ...`. \n",
        "See https://www.w3schools.com/python/python_try_except.asp for a simple tutorial.\n",
        "\n"
      ]
    },
    {
      "cell_type": "code",
      "metadata": {
        "id": "tOduEFzAxSiQ"
      },
      "source": [],
      "execution_count": null,
      "outputs": []
    }
  ]
}
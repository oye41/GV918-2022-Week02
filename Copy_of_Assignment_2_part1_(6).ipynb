{
  "cells": [
    {
      "cell_type": "markdown",
      "metadata": {
        "id": "view-in-github",
        "colab_type": "text"
      },
      "source": [
        "<a href=\"https://colab.research.google.com/github/oye41/GV918-2022-Week02/blob/main/Copy_of_Assignment_2_part1_(6).ipynb\" target=\"_parent\"><img src=\"https://colab.research.google.com/assets/colab-badge.svg\" alt=\"Open In Colab\"/></a>"
      ]
    },
    {
      "cell_type": "markdown",
      "metadata": {
        "id": "ZNOJsvnByeTX"
      },
      "source": [
        "# Assignment Instruction\n",
        "\n",
        "This is Part 1 of assignment 2. It amounts to 40 percent of the grade.\n",
        "\n",
        "In this part of the assignment, you will scrape the list of postgraduate modules offered by the Department of Government, University of Essex. The starting url is https://www1.essex.ac.uk/modules/modules.aspx?department=GV&filter=PG&year=22&campus=CO&level=&zs=true. \n",
        "\n",
        "\n"
      ]
    },
    {
      "cell_type": "code",
      "execution_count": null,
      "metadata": {
        "id": "ZRs5fNKVoSza"
      },
      "outputs": [],
      "source": [
        "from urllib.request import urlopen\n",
        "from bs4 import BeautifulSoup\n",
        "import pandas as pd\n",
        "from time import sleep\n",
        "import re"
      ]
    },
    {
      "cell_type": "markdown",
      "metadata": {
        "id": "vK4ElCXGzBhs"
      },
      "source": [
        "# Get the table as DataFrame (10 percent)\n",
        "\n",
        "- Get the webpage and convert the table there into a pandas DataFrame"
      ]
    },
    {
      "cell_type": "code",
      "execution_count": null,
      "metadata": {
        "id": "8fpCOlKjoOP0"
      },
      "outputs": [],
      "source": [
        "url = 'https://www1.essex.ac.uk/modules/modules.aspx?department=GV&filter=PG&year=22&campus=CO&level=&zs=true'"
      ]
    },
    {
      "cell_type": "code",
      "execution_count": null,
      "metadata": {
        "id": "f4otG6YcoqF-"
      },
      "outputs": [],
      "source": [
        "html = urlopen(url)\n",
        "bs = BeautifulSoup(html, 'html.parser')"
      ]
    },
    {
      "cell_type": "markdown",
      "metadata": {
        "id": "--mbIEbCzj3i"
      },
      "source": [
        "- How many modules (answer from the number of rows in the DataFrame)?"
      ]
    },
    {
      "cell_type": "code",
      "execution_count": null,
      "metadata": {
        "colab": {
          "base_uri": "https://localhost:8080/"
        },
        "id": "HEPdKKLPOva4",
        "outputId": "995a76e7-2a23-4150-a3a6-a9d75bf9a2aa"
      },
      "outputs": [
        {
          "output_type": "stream",
          "name": "stdout",
          "text": [
            "56\n"
          ]
        }
      ],
      "source": [
        "counter = 0\n",
        "for link in bs.findAll('td',{'data-label':'Title'}):\n",
        "    counter+=1\n",
        "print(counter)"
      ]
    },
    {
      "cell_type": "markdown",
      "metadata": {
        "id": "riQ2kRvRzwrZ"
      },
      "source": [
        "- Print several rows from the dataframe"
      ]
    },
    {
      "cell_type": "code",
      "execution_count": null,
      "metadata": {
        "colab": {
          "base_uri": "https://localhost:8080/"
        },
        "id": "zIuLs8dFOspY",
        "outputId": "8281c7b9-123c-4076-8a98-34e416c35a2c"
      },
      "outputs": [
        {
          "output_type": "stream",
          "name": "stdout",
          "text": [
            "The Analysis of Conflict and Peace\n",
            "Democracy, Violence, and Inequality in Latin America\n",
            "International Security Studies\n",
            "International Security Studies\n",
            "Gender and Armed Conflict\n",
            "The Politics of Modern China\n",
            "Israeli Politics\n",
            "Politics of South Asia\n",
            "Political Theory and Gender\n",
            "War and Conflict in the Post-Soviet World\n",
            "From Cradle to Grave: Social Justice in Childhood, Adulthood, and Death\n",
            "Migration, Politics and International Development\n",
            "Comparative Environmental Politics\n",
            "Environmental Politics\n",
            "International Environmental Politics\n",
            "Social Science Data Analysis: Year 2\n",
            "Essex Summer School Module 30 Credits\n",
            "Essex Summer School Module 30 Credits\n",
            "Political Explanation\n",
            "Theories of International Relations\n",
            "Advanced Research Methods\n",
            "Conflict Resolution\n",
            "Conflict Resolution\n",
            "Conflict Resolution and Peace\n",
            "Political Economy\n",
            "Political Theory\n",
            "Research Seminar in Political Theory and Methods\n",
            "Research Design\n",
            "Applied Research Design\n",
            "Political Economy of Development\n",
            "Public Opinion and Political Behaviour\n",
            "Data for Social Data Science\n",
            "Concepts and Measurements in Comparative Political Research\n",
            "Foundations of Public Policy\n",
            "The Politics of Public Policy\n",
            "Terrorism and Counterterrorism\n",
            "International Current Affairs: Understanding our World\n",
            "Political Psychology\n",
            "Insurgents, Criminals and Terrorists\n",
            "International Institutions and Global Governance\n",
            "Comparative European Politics\n",
            "Comparative European Politics\n",
            "Theory and Explanation in Political Science\n",
            "United States Politics\n",
            "Doctoral Research Seminar in International Relations\n",
            "Doctoral Research Seminar in Political Economy\n",
            "Doctoral Research Seminar in Elections, Public Opinion, and Parties\n",
            "Research Design\n",
            "Ideology and Political Discourse\n",
            "PhD Seminar in Ideology and Discourse Analysis\n",
            "Political Institutions\n",
            "MA Dissertation\n",
            "Professional Development Seminar\n",
            "MRES Dissertation\n",
            "Government - Completion\n",
            "Government - Research\n"
          ]
        }
      ],
      "source": [
        "for link in bs.findAll('a',{'href': re.compile(\"^Default\")}):\n",
        "    print(link.text)\n"
      ]
    },
    {
      "cell_type": "markdown",
      "metadata": {
        "id": "eyEVD8sJz1cM"
      },
      "source": [
        "## Extract links\n",
        "\n",
        "Now let's get the links in the table and construct the full url. Once a list of url is obtained, put it in the dataframe as a new column.\n"
      ]
    },
    {
      "cell_type": "code",
      "execution_count": null,
      "metadata": {
        "colab": {
          "base_uri": "https://localhost:8080/"
        },
        "id": "zyt23HGEPXDZ",
        "outputId": "8742589b-5365-41af-ee49-73867b2529cf"
      },
      "outputs": [
        {
          "output_type": "stream",
          "name": "stdout",
          "text": [
            "[['GV508-7-SP-CO', 'The Analysis of Conflict and Peace', 'CO', 'https://www1.essex.ac.uk/modules/Default.aspx?coursecode=GV508&level=7&period=SP&campus=CO&year=22'], ['GV510-7-AU-CO', 'Democracy, Violence, and Inequality in Latin America', 'CO', 'https://www1.essex.ac.uk/modules/Default.aspx?coursecode=GV510&level=7&period=AU&campus=CO&year=22'], ['GV517-7-AU-CO', 'International Security Studies', 'CO', 'https://www1.essex.ac.uk/modules/Default.aspx?coursecode=GV517&level=7&period=AU&campus=CO&year=22'], ['GV517-7-FY-CO', 'International Security Studies', 'CO', 'https://www1.essex.ac.uk/modules/Default.aspx?coursecode=GV517&level=7&period=FY&campus=CO&year=22'], ['GV522-7-SP-CO', 'Gender and Armed Conflict', 'CO', 'https://www1.essex.ac.uk/modules/Default.aspx?coursecode=GV522&level=7&period=SP&campus=CO&year=22'], ['GV523-7-AU-CO', 'The Politics of Modern China', 'CO', 'https://www1.essex.ac.uk/modules/Default.aspx?coursecode=GV523&level=7&period=AU&campus=CO&year=22'], ['GV525-7-SP-CO', 'Israeli Politics', 'CO', 'https://www1.essex.ac.uk/modules/Default.aspx?coursecode=GV525&level=7&period=SP&campus=CO&year=22'], ['GV526-7-AU-CO', 'Politics of South Asia', 'CO', 'https://www1.essex.ac.uk/modules/Default.aspx?coursecode=GV526&level=7&period=AU&campus=CO&year=22'], ['GV528-7-SP-CO', 'Political Theory and Gender', 'CO', 'https://www1.essex.ac.uk/modules/Default.aspx?coursecode=GV528&level=7&period=SP&campus=CO&year=22'], ['GV529-7-SP-CO', 'War and Conflict in the Post-Soviet World', 'CO', 'https://www1.essex.ac.uk/modules/Default.aspx?coursecode=GV529&level=7&period=SP&campus=CO&year=22'], ['GV538-7-SP-CO', 'From Cradle to Grave: Social Justice in Childhood, Adulthood, and Death', 'CO', 'https://www1.essex.ac.uk/modules/Default.aspx?coursecode=GV538&level=7&period=SP&campus=CO&year=22'], ['GV554-7-SP-CO', 'Migration, Politics and International Development', 'CO', 'https://www1.essex.ac.uk/modules/Default.aspx?coursecode=GV554&level=7&period=SP&campus=CO&year=22'], ['GV591-7-AU-CO', 'Comparative Environmental Politics', 'CO', 'https://www1.essex.ac.uk/modules/Default.aspx?coursecode=GV591&level=7&period=AU&campus=CO&year=22'], ['GV591-7-FY-CO', 'Environmental Politics', 'CO', 'https://www1.essex.ac.uk/modules/Default.aspx?coursecode=GV591&level=7&period=FY&campus=CO&year=22'], ['GV591-7-SP-CO', 'International Environmental Politics', 'CO', 'https://www1.essex.ac.uk/modules/Default.aspx?coursecode=GV591&level=7&period=SP&campus=CO&year=22'], ['GV602-7-FY-CO', 'Social Science Data Analysis: Year 2', 'CO', 'https://www1.essex.ac.uk/modules/Default.aspx?coursecode=GV602&level=7&period=FY&campus=CO&year=22'], ['GV612-7-LV-CO', 'Essex Summer School Module 30 Credits', 'CO', 'https://www1.essex.ac.uk/modules/Default.aspx?coursecode=GV612&level=7&period=LV&campus=CO&year=22'], ['GV613-7-LV-CO', 'Essex Summer School Module 30 Credits', 'CO', 'https://www1.essex.ac.uk/modules/Default.aspx?coursecode=GV613&level=7&period=LV&campus=CO&year=22'], ['GV900-7-FY-CO', 'Political Explanation', 'CO', 'https://www1.essex.ac.uk/modules/Default.aspx?coursecode=GV900&level=7&period=FY&campus=CO&year=22'], ['GV902-7-FY-CO', 'Theories of International Relations', 'CO', 'https://www1.essex.ac.uk/modules/Default.aspx?coursecode=GV902&level=7&period=FY&campus=CO&year=22'], ['GV903-7-FY-CO', 'Advanced Research Methods', 'CO', 'https://www1.essex.ac.uk/modules/Default.aspx?coursecode=GV903&level=7&period=FY&campus=CO&year=22'], ['GV906-7-AU-CO', 'Conflict Resolution', 'CO', 'https://www1.essex.ac.uk/modules/Default.aspx?coursecode=GV906&level=7&period=AU&campus=CO&year=22'], ['GV906-7-FY-CO', 'Conflict Resolution', 'CO', 'https://www1.essex.ac.uk/modules/Default.aspx?coursecode=GV906&level=7&period=FY&campus=CO&year=22'], ['GV906-7-SP-CO', 'Conflict Resolution and Peace', 'CO', 'https://www1.essex.ac.uk/modules/Default.aspx?coursecode=GV906&level=7&period=SP&campus=CO&year=22'], ['GV907-7-FY-CO', 'Political Economy', 'CO', 'https://www1.essex.ac.uk/modules/Default.aspx?coursecode=GV907&level=7&period=FY&campus=CO&year=22'], ['GV908-7-FY-CO', 'Political Theory', 'CO', 'https://www1.essex.ac.uk/modules/Default.aspx?coursecode=GV908&level=7&period=FY&campus=CO&year=22'], ['GV909-7-AU-CO', 'Research Seminar in Political Theory and Methods', 'CO', 'https://www1.essex.ac.uk/modules/Default.aspx?coursecode=GV909&level=7&period=AU&campus=CO&year=22'], ['GV914-7-SP-CO', 'Research Design', 'CO', 'https://www1.essex.ac.uk/modules/Default.aspx?coursecode=GV914&level=7&period=SP&campus=CO&year=22'], ['GV915-7-SU-CO', 'Applied Research Design', 'CO', 'https://www1.essex.ac.uk/modules/Default.aspx?coursecode=GV915&level=7&period=SU&campus=CO&year=22'], ['GV916-7-SP-CO', 'Political Economy of Development', 'CO', 'https://www1.essex.ac.uk/modules/Default.aspx?coursecode=GV916&level=7&period=SP&campus=CO&year=22'], ['GV917-7-FY-CO', 'Public Opinion and Political Behaviour', 'CO', 'https://www1.essex.ac.uk/modules/Default.aspx?coursecode=GV917&level=7&period=FY&campus=CO&year=22'], ['GV918-7-AU-CO', 'Data for Social Data Science', 'CO', 'https://www1.essex.ac.uk/modules/Default.aspx?coursecode=GV918&level=7&period=AU&campus=CO&year=22'], ['GV922-7-SP-CO', 'Concepts and Measurements in Comparative Political Research', 'CO', 'https://www1.essex.ac.uk/modules/Default.aspx?coursecode=GV922&level=7&period=SP&campus=CO&year=22'], ['GV923-7-AU-CO', 'Foundations of Public Policy', 'CO', 'https://www1.essex.ac.uk/modules/Default.aspx?coursecode=GV923&level=7&period=AU&campus=CO&year=22'], ['GV924-7-SP-CO', 'The Politics of Public Policy', 'CO', 'https://www1.essex.ac.uk/modules/Default.aspx?coursecode=GV924&level=7&period=SP&campus=CO&year=22'], ['GV925-7-SP-CO', 'Terrorism and Counterterrorism', 'CO', 'https://www1.essex.ac.uk/modules/Default.aspx?coursecode=GV925&level=7&period=SP&campus=CO&year=22'], ['GV926-7-SP-CO', 'International Current Affairs: Understanding our World', 'CO', 'https://www1.essex.ac.uk/modules/Default.aspx?coursecode=GV926&level=7&period=SP&campus=CO&year=22'], ['GV928-7-AU-CO', 'Political Psychology', 'CO', 'https://www1.essex.ac.uk/modules/Default.aspx?coursecode=GV928&level=7&period=AU&campus=CO&year=22'], ['GV944-7-SP-CO', 'Insurgents, Criminals and Terrorists', 'CO', 'https://www1.essex.ac.uk/modules/Default.aspx?coursecode=GV944&level=7&period=SP&campus=CO&year=22'], ['GV945-7-AU-CO', 'International Institutions and Global Governance', 'CO', 'https://www1.essex.ac.uk/modules/Default.aspx?coursecode=GV945&level=7&period=AU&campus=CO&year=22'], ['GV952-7-FY-CO', 'Comparative European Politics', 'CO', 'https://www1.essex.ac.uk/modules/Default.aspx?coursecode=GV952&level=7&period=FY&campus=CO&year=22'], ['GV952-7-SP-CO', 'Comparative European Politics', 'CO', 'https://www1.essex.ac.uk/modules/Default.aspx?coursecode=GV952&level=7&period=SP&campus=CO&year=22'], ['GV958-7-FY-CO', 'Theory and Explanation in Political Science', 'CO', 'https://www1.essex.ac.uk/modules/Default.aspx?coursecode=GV958&level=7&period=FY&campus=CO&year=22'], ['GV963-7-FY-CO', 'United States Politics', 'CO', 'https://www1.essex.ac.uk/modules/Default.aspx?coursecode=GV963&level=7&period=FY&campus=CO&year=22'], ['GV970-8-FY-CO', 'Doctoral Research Seminar in International Relations', 'CO', 'https://www1.essex.ac.uk/modules/Default.aspx?coursecode=GV970&level=8&period=FY&campus=CO&year=22'], ['GV971-8-FY-CO', 'Doctoral Research Seminar in Political Economy', 'CO', 'https://www1.essex.ac.uk/modules/Default.aspx?coursecode=GV971&level=8&period=FY&campus=CO&year=22'], ['GV975-8-FY-CO', 'Doctoral Research Seminar in Elections, Public Opinion, and Parties', 'CO', 'https://www1.essex.ac.uk/modules/Default.aspx?coursecode=GV975&level=8&period=FY&campus=CO&year=22'], ['GV976-8-FY-CO', 'Research Design', 'CO', 'https://www1.essex.ac.uk/modules/Default.aspx?coursecode=GV976&level=8&period=FY&campus=CO&year=22'], ['GV988-7-FY-CO', 'Ideology and Political Discourse', 'CO', 'https://www1.essex.ac.uk/modules/Default.aspx?coursecode=GV988&level=7&period=FY&campus=CO&year=22'], ['GV990-8-FY-CO', 'PhD Seminar in Ideology and Discourse Analysis', 'CO', 'https://www1.essex.ac.uk/modules/Default.aspx?coursecode=GV990&level=8&period=FY&campus=CO&year=22'], ['GV992-8-FY-CO', 'Political Institutions', 'CO', 'https://www1.essex.ac.uk/modules/Default.aspx?coursecode=GV992&level=8&period=FY&campus=CO&year=22'], ['GV993-7-FY-CO', 'MA Dissertation', 'CO', 'https://www1.essex.ac.uk/modules/Default.aspx?coursecode=GV993&level=7&period=FY&campus=CO&year=22'], ['GV994-8-FY-CO', 'Professional Development Seminar', 'CO', 'https://www1.essex.ac.uk/modules/Default.aspx?coursecode=GV994&level=8&period=FY&campus=CO&year=22'], ['GV995-7-FY-CO', 'MRES Dissertation', 'CO', 'https://www1.essex.ac.uk/modules/Default.aspx?coursecode=GV995&level=7&period=FY&campus=CO&year=22'], ['GV997-8-FY-CO', 'Government - Completion', 'CO', 'https://www1.essex.ac.uk/modules/Default.aspx?coursecode=GV997&level=8&period=FY&campus=CO&year=22'], ['GV999-8-FY-CO', 'Government - Research', 'CO', 'https://www1.essex.ac.uk/modules/Default.aspx?coursecode=GV999&level=8&period=FY&campus=CO&year=22']]\n"
          ]
        }
      ],
      "source": [
        "counter=0\n",
        "datag=[]\n",
        "linker=[]\n",
        "def_link='https://www1.essex.ac.uk/modules/'\n",
        "\n",
        "for link in bs.findAll('a',{'href': re.compile(\"^Default\")}):\n",
        "    linker.append(def_link + link.get('href'))\n",
        "\n",
        "table = bs.find('table')\n",
        "rows=table.find_all(\"tr\")\n",
        "\n",
        "for row in rows[1:]:\n",
        "    cells=row.find_all(['td','th'])\n",
        "    cells_text = [cell.get_text(strip=True) for cell in cells]\n",
        "    #print(cells_text)\n",
        "    datag.append(cells_text)\n",
        "    counter+=1\n",
        "\n",
        "for i in range(len(datag)):\n",
        "    datag[i].append(linker[i])\n",
        "\n",
        "print(datag)"
      ]
    },
    {
      "cell_type": "markdown",
      "metadata": {
        "id": "COkAGauQ0ZkQ"
      },
      "source": [
        "# Visit a single page and extract the information (10 percent)\n",
        "\n",
        "- Use the first link (https://www1.essex.ac.uk/modules/Default.aspx?coursecode=GV505&level=7&period=AU&campus=CO&year=21)\n",
        "- Visit this page and extract the following information\n",
        "  - Module supervisors name\n",
        "  - Module supervisors email adress\n",
        "  - Weight of coursework in overall assessement\n",
        "  - Weight of exam in overall assessement\n",
        "- Once extract the information, construct a dataframe with one row \n",
        "\n",
        "The dataframe should look like this:\n",
        "\n",
        "| sup_name          | sup_email                 | Coursework | Exam |\n",
        "|-------------------|---------------------------|------------|------|\n",
        "| Prof Robert Johns | mailto:rajohn@essex.ac.uk | 100%       | 0%   |\n",
        "\n"
      ]
    },
    {
      "cell_type": "code",
      "execution_count": null,
      "metadata": {
        "id": "89-yKMTf0ZAl",
        "colab": {
          "base_uri": "https://localhost:8080/"
        },
        "outputId": "0d296e41-364d-4d99-b328-5a0c363b706f"
      },
      "outputs": [
        {
          "output_type": "stream",
          "name": "stdout",
          "text": [
            "{'sup_name': 'Prof Robert Johns', 'sup_email': 'mailto:rajohn@essex.ac.uk', 'Coursework': '100%', 'Exam': '0%'}\n"
          ]
        }
      ],
      "source": [
        "from urllib.request import urlopen\n",
        "from bs4 import BeautifulSoup\n",
        "import pandas as pd\n",
        "from time import sleep\n",
        "import re\n",
        "url = 'https://www1.essex.ac.uk/modules/Default.aspx?coursecode=GV505&level=7&period=AU&campus=CO&year=21'\n",
        "html = urlopen(url)\n",
        "bs = BeautifulSoup(html, 'html.parser')\n",
        "\n",
        "superv = bs.find_all('span', {'id' : 'ContentMain_ModuleDirectoryDetails_lblSupervisorDetails'})\n",
        "data = {\n",
        "    'sup_name' : superv[0].get_text()[:superv[0].get_text().find(',')],\n",
        "    'sup_email' : superv[0].a['href'],\n",
        "    'Coursework' : bs.find_all('span', {'id' : 'ContentMain_ModuleDirectoryDetails_lblCourseworkWeighting'})[0].get_text(),\n",
        "    'Exam' : bs.find_all('span', {'id' : 'ContentMain_ModuleDirectoryDetails_lblExamWeighting'})[0].get_text()\n",
        "}\n",
        "print(data)\n"
      ]
    },
    {
      "cell_type": "code",
      "execution_count": null,
      "metadata": {
        "id": "bIFG9zJfk5mX"
      },
      "outputs": [],
      "source": []
    },
    {
      "cell_type": "markdown",
      "metadata": {
        "id": "c8J2wjUn3Cnv"
      },
      "source": [
        "# Construct a function (8 percent)"
      ]
    },
    {
      "cell_type": "markdown",
      "metadata": {
        "id": "dThDqh1o3Qa-"
      },
      "source": [
        "Combine the work above and construct a function to do the job. The template is below. \n",
        "\n",
        "Try a few urls to check if the function works as intended."
      ]
    },
    {
      "cell_type": "code",
      "execution_count": null,
      "metadata": {
        "id": "HVAQQ-Ha3CQ6"
      },
      "outputs": [],
      "source": [
        "from time import sleep\n",
        "def fetch_indpage(ind_url, sleep_sec = 0):\n",
        "    sleep(sleep_sec)  \n",
        "\n",
        "    bs = BeautifulSoup(urlopen(ind_url), 'html.parser')\n",
        "    ## provide some code to extract the relevant information\n",
        "    superv = bs.find_all('span', {'id' : 'ContentMain_ModuleDirectoryDetails_lblSupervisorDetails'})\n",
        "    try:\n",
        "        data = {\n",
        "            'sup_name' : superv[0].get_text()[:superv[0].get_text().find(',')],\n",
        "            'sup_email' : superv[0].a['href']\n",
        "        }\n",
        "\n",
        "    except:\n",
        "        data = {\n",
        "            'sup_name' : '',\n",
        "            'sup_email' : ''\n",
        "        }\n",
        "    try:\n",
        "        data2 = {\n",
        "            'Coursework' : bs.find_all('span', {'id' : 'ContentMain_ModuleDirectoryDetails_lblCourseworkWeighting'})[0].get_text(),\n",
        "            'Exam' : bs.find_all('span', {'id' : 'ContentMain_ModuleDirectoryDetails_lblExamWeighting'})[0].get_text()\n",
        "        }\n",
        "\n",
        "    except:\n",
        "        data2 = {\n",
        "            'Coursework' : '',\n",
        "            'Exam' : ''\n",
        "        }\n",
        "                \n",
        "    data.update(data2)\n",
        "    \n",
        "    return(data)\n"
      ]
    },
    {
      "cell_type": "markdown",
      "metadata": {
        "id": "QkCd1JwC3nwD"
      },
      "source": [
        "# Use the function above and get information from all links (12 percent)\n",
        "\n",
        "1. Use the function above and get the information from all pages\n",
        "2. Then create a dataframe by concatinating the results\n",
        "3. Concatinate 2. with the dataframe you created in the beginning\n",
        "4. Save as a csv file\n",
        "\n",
        "Note: There will be missing information in some pages (e.g. https://www1.essex.ac.uk/modules/Default.aspx?coursecode=GV602&level=7&period=FY&campus=CO&year=21). That might cause errors to your function. You need to modify the function to handle these errors. You may be able to use `if .. else ..`, as we saw in the class, or may need to have a proper error handling with `try: ... except: ...`. \n",
        "See https://www.w3schools.com/python/python_try_except.asp for a simple tutorial.\n",
        "\n"
      ]
    },
    {
      "cell_type": "code",
      "execution_count": null,
      "metadata": {
        "id": "tOduEFzAxSiQ"
      },
      "outputs": [],
      "source": [
        "import csv\n",
        "\n",
        "#course_details=[]\n",
        "\n",
        "#for i in range(len(linker)):\n",
        "    \n",
        "\n",
        "for i in range(len(datag)):\n",
        "    course_details=(fetch_indpage(linker[i]))\n",
        "    for j in course_details:\n",
        "        datag[i].append(course_details[j])\n",
        "\n",
        "\n",
        "header = ['Module Code', 'Title', 'Campus', 'Link', 'Sup_name', 'sup_email', 'Coursework', 'Exam']\n",
        "\n",
        "with open('output.csv', 'w', encoding='UTF8', newline='') as f:\n",
        "    writer = csv.writer(f)\n",
        "\n",
        "    # write the header\n",
        "    writer.writerow(header)\n",
        "\n",
        "    # write the data\n",
        "    writer.writerows(datag)\n",
        "\n",
        "#print(course_details)"
      ]
    }
  ],
  "metadata": {
    "colab": {
      "provenance": [],
      "toc_visible": true,
      "include_colab_link": true
    },
    "kernelspec": {
      "display_name": "Python 3 (ipykernel)",
      "language": "python",
      "name": "python3"
    },
    "language_info": {
      "codemirror_mode": {
        "name": "ipython",
        "version": 3
      },
      "file_extension": ".py",
      "mimetype": "text/x-python",
      "name": "python",
      "nbconvert_exporter": "python",
      "pygments_lexer": "ipython3",
      "version": "3.9.12"
    }
  },
  "nbformat": 4,
  "nbformat_minor": 0
}
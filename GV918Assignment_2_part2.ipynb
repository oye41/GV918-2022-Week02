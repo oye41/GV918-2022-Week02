{
  "cells": [
    {
      "cell_type": "markdown",
      "metadata": {
        "id": "view-in-github",
        "colab_type": "text"
      },
      "source": [
        "<a href=\"https://colab.research.google.com/github/oye41/GV918-2022-Week02/blob/main/GV918Assignment_2_part2.ipynb\" target=\"_parent\"><img src=\"https://colab.research.google.com/assets/colab-badge.svg\" alt=\"Open In Colab\"/></a>"
      ]
    },
    {
      "cell_type": "markdown",
      "metadata": {
        "id": "9G0w-U1s4XmX"
      },
      "source": [
        "# Assignment Instruction\n",
        "\n",
        "This is Part 2 of assignment 2. It amounts to 60 percent of the grade.\n",
        "\n",
        "In this part of the assignment, you will get the data for e-petitions in the UK. \n",
        "\n",
        "If you are not familiar with this system, please refer to:\n",
        "\n",
        "- https://www.parliament.uk/get-involved/sign-a-petition/e-petitions/\n",
        "- https://en.wikipedia.org/wiki/UK_Parliament_petitions_website\n",
        "\n",
        "An example of research using this data is:\n",
        "\n",
        "- https://doi.org/10.1111/lsq.12291\n"
      ]
    },
    {
      "cell_type": "markdown",
      "metadata": {
        "id": "ID_Gf6DYWN9A"
      },
      "source": [
        "# Load packages"
      ]
    },
    {
      "cell_type": "code",
      "execution_count": 1,
      "metadata": {
        "id": "hQrmranqWNqJ"
      },
      "outputs": [],
      "source": [
        "from urllib.request import urlopen\n",
        "from bs4 import BeautifulSoup\n",
        "import pandas as pd\n",
        "from time import sleep\n",
        "import re\n",
        "import json\n",
        "import numpy as np\n"
      ]
    },
    {
      "cell_type": "markdown",
      "metadata": {
        "id": "TU57EsiFTItc"
      },
      "source": [
        "# Petitions with parliamentary debates\n",
        "\n",
        "\n",
        "The particular category of petitions we will look at in this section are ones with parliamentary debates. When the number of signatures exceeds 100,000, the petition will be discussed in the parliament. The initial url is [https://petition.parliament.uk/petitions?state=debated](https://petition.parliament.uk/petitions?state=debated). There are 141 such petitions (as of 10 Nov, 2022). We scrape the information and construct the data from this webpage.\n"
      ]
    },
    {
      "cell_type": "code",
      "execution_count": 4,
      "metadata": {
        "id": "4axBekPkt4Sw"
      },
      "outputs": [],
      "source": [
        "url = \"https://petition.parliament.uk/petitions?state=debated\"\n",
        "html = urlopen(url)\n",
        "bs = BeautifulSoup(html, \"html.parser\")"
      ]
    },
    {
      "cell_type": "markdown",
      "metadata": {
        "id": "hdx4is_QTbyQ"
      },
      "source": [
        "## Extract the following information (20 points)\n",
        "\n",
        "On the first page (https://petition.parliament.uk/petitions?state=debated), there are 50 most recent petitions. From this webpage, extract the following information from the website (not from the json file at the bottom of the page).\n",
        "\n",
        "1. Get the titles of 50 petitions on this page\n",
        "2. Extract the number of signatures, and convert the datatype from string to integer\n",
        "3. Extract the date of the parliament debate\n",
        "4. Extract the link to the debate page (e.g. https://petition.parliament.uk/petitions/598986#debate-threshold)\n",
        "4. Combine all these fields to create a DataFrame\n",
        "\n",
        "Construct a function to fetch each page, fetch all three pages, and create a dataset of all debated petitions (with 140+ rows, 4 columns). "
      ]
    },
    {
      "cell_type": "code",
      "execution_count": 5,
      "metadata": {
        "id": "iAEl1lgnwzGX"
      },
      "outputs": [],
      "source": [
        "#Generate the required dataset\n",
        "def extractData(url):\n",
        "    html = urlopen(url)\n",
        "    bs = BeautifulSoup(html, \"html.parser\")\n",
        "    datag =[]\n",
        "\n",
        "    #names = bs.find_all(class_ = \"petition-item petition-closed\")\n",
        "    names = bs.find_all(class_ = re.compile(\"petition-item petition\"))\n",
        "    for i in range(len(names)):\n",
        "        title =(names[i].a.get_text())\n",
        "        sig = (int(names[i].span.get_text().replace(',','')))\n",
        "        dater=(names[i].find_all('p')[1].get_text()[8:])\n",
        "        linker = ('https://petition.parliament.uk'+ names[i].a.get('href'))\n",
        "        datag.append([title, sig,dater,linker])\n",
        "    \n",
        "    return datag\n",
        "\n",
        "#Generate links to all pages in the dataset\n",
        "def makelink(n):\n",
        "    new_url=''\n",
        "    if n in [1,2,3]:\n",
        "        new_url = \"https://petition.parliament.uk/petitions?page=\" + str(n) +\"&state=debated\"\n",
        "    else:\n",
        "        print('Input the correct page number')\n",
        "    return new_url        "
      ]
    },
    {
      "cell_type": "code",
      "execution_count": 8,
      "metadata": {
        "colab": {
          "base_uri": "https://localhost:8080/"
        },
        "id": "yl8vwO63iBdr",
        "outputId": "0d663f59-8eb2-40db-87c9-57304b5bc52b"
      },
      "outputs": [
        {
          "output_type": "stream",
          "name": "stdout",
          "text": [
            "['Include abortion rights in the Bill of Rights', 167081, '28 November 2022', 'https://petition.parliament.uk/petitions/619334#debate-threshold']\n",
            "['Do not reduce staff-child ratios in early years childcare', 109488, '14 November 2022', 'https://petition.parliament.uk/petitions/615623#debate-threshold']\n",
            "['Automatically suspend PR rights of parent guilty of murdering the other parent.', 130179, '7 November 2022', 'https://petition.parliament.uk/petitions/614893#debate-threshold']\n",
            "['Nationalise Energy Companies', 109310, '31 October 2022', 'https://petition.parliament.uk/petitions/608056#debate-threshold']\n",
            "['Do not reform the Human Rights Act', 231132, '24 October 2022', 'https://petition.parliament.uk/petitions/607712#debate-threshold']\n",
            "['Open a Public Inquiry into Covid-19 Vaccine Safety', 107122, '24 October 2022', 'https://petition.parliament.uk/petitions/602171#debate-threshold']\n",
            "['Call an immediate general election to end the chaos of the current government', 899134, '17 October 2022', 'https://petition.parliament.uk/petitions/619781#debate-threshold']\n",
            "['Protect student choice: do not withdraw funding for BTEC qualifications', 108347, '18 July 2022', 'https://petition.parliament.uk/petitions/592642#debate-threshold']\n",
            "['Suspend trade agreement with Faroe Islands until all whale & dolphin hunts end', 104660, '11 July 2022', 'https://petition.parliament.uk/petitions/597171#debate-threshold']\n",
            "['Replace the real bearskins used for the Queen’s Guard’s caps with faux fur', 106354, '11 July 2022', 'https://petition.parliament.uk/petitions/602285#debate-threshold']\n",
            "['Legalise assisted dying for terminally ill, mentally competent adults', 155799, '4 July 2022', 'https://petition.parliament.uk/petitions/604383#debate-threshold']\n",
            "['Require schools to make Friday a part of the school weekend', 148136, '27 June 2022', 'https://petition.parliament.uk/petitions/597715#debate-threshold']\n",
            "['End the Cage Age for all farmed animals', 109820, '20 June 2022', 'https://petition.parliament.uk/petitions/593775#debate-threshold']\n",
            "['Ensure Trans people are fully protected under any conversion therapy ban', 149167, '13 June 2022', 'https://petition.parliament.uk/petitions/613556#debate-threshold']\n",
            "['Repeal Breed Specific Legislation', 116252, '6 June 2022', 'https://petition.parliament.uk/petitions/603988#debate-threshold']\n",
            "['Reduce fuel duty and VAT by 40% for a period of 2 years', 102124, '23 May 2022', 'https://petition.parliament.uk/petitions/599089#debate-threshold']\n",
            "['Make non-binary a legally recognised gender identity in the UK', 140768, '23 May 2022', 'https://petition.parliament.uk/petitions/580220#debate-threshold']\n",
            "['Do not implement proposed new offences for vehicle \"tampering\"', 115285, '25 April 2022', 'https://petition.parliament.uk/petitions/600954#debate-threshold']\n",
            "['Stop Forestry England granting licenses for Fox & Hare hunts', 104705, '25 April 2022', 'https://petition.parliament.uk/petitions/552017#debate-threshold']\n",
            "['Mini’s law - Protect the public and animals from hunting activities', 101996, '25 April 2022', 'https://petition.parliament.uk/petitions/584076#debate-threshold']\n",
            "[\"VALERIE'S LAW Compulsory Training for Agencies Supporting Black DV Victims\", 106517, '28 March 2022', 'https://petition.parliament.uk/petitions/578416#debate-threshold']\n",
            "['Ban greyhound racing to end unnecessary deaths & suffering of racing dogs', 104885, '28 March 2022', 'https://petition.parliament.uk/petitions/554073#debate-threshold']\n",
            "['Make self-employed people eligible for statutory adoption pay', 16794, '21 March 2022', 'https://petition.parliament.uk/petitions/601323#debate-threshold']\n",
            "['Ban the shooting of badgers immediately', 106108, '21 March 2022', 'https://petition.parliament.uk/petitions/333693#debate-threshold']\n",
            "['Waive visa requirement for Ukrainian refugees.', 188649, '14 March 2022', 'https://petition.parliament.uk/petitions/609530#debate-threshold']\n",
            "['Make verified ID a requirement for opening a social media account.', 696954, '28 February 2022', 'https://petition.parliament.uk/petitions/575833#debate-threshold']\n",
            "['Reform the Gender Recognition Act.', 137271, '21 February 2022', 'https://petition.parliament.uk/petitions/327108#debate-threshold']\n",
            "['Change the law to include laboratory animals in the Animal Welfare Act.', 110268, '7 February 2022', 'https://petition.parliament.uk/petitions/591775#debate-threshold']\n",
            "['Provide more funding for stalking advocates for victims of stalking', 105721, '31 January 2022', 'https://petition.parliament.uk/petitions/593769#debate-threshold']\n",
            "['Renationalise the NHS, scrap integrated care systems, and end PFI contracts', 137707, '31 January 2022', 'https://petition.parliament.uk/petitions/598732#debate-threshold']\n",
            "['Prohibit employers from requiring staff to be vaccinated against Covid-19', 232533, '24 January 2022', 'https://petition.parliament.uk/petitions/599841#debate-threshold']\n",
            "[\"Mark Allen's Law - we want throwline stations around all bodies of open water\", 103527, '24 January 2022', 'https://petition.parliament.uk/petitions/575967#debate-threshold']\n",
            "['Tom’s Law - Give police the power to suspend driving licences', 104868, '10 January 2022', 'https://petition.parliament.uk/petitions/548682#debate-threshold']\n",
            "['#Reggieslaw - Regulate online animal sales', 109003, '13 December 2021', 'https://petition.parliament.uk/petitions/587654#debate-threshold']\n",
            "['Dedicate funding for research into Fibrodysplasia Ossificans Progressiva (FOP)', 111246, '6 December 2021', 'https://petition.parliament.uk/petitions/590405#debate-threshold']\n",
            "['To allow non-prescribed storage of Salbutamol Inhalers in Commercial Kitchens', 102056, '29 November 2021', 'https://petition.parliament.uk/petitions/578676#debate-threshold']\n",
            "['We demand that the Gurkhas receive equal pensions', 108278, '22 November 2021', 'https://petition.parliament.uk/petitions/594155#debate-threshold']\n",
            "['Ban Water Companies discharging raw sewage into water courses.', 111428, '15 November 2021', 'https://petition.parliament.uk/petitions/582336#debate-threshold']\n",
            "[\"Ryan's Law: Widen definition of 'death by dangerous driving'\", 167461, '15 November 2021', 'https://petition.parliament.uk/petitions/575620#debate-threshold']\n",
            "['Tougher sentences for hit and run drivers who cause death', 104323, '15 November 2021', 'https://petition.parliament.uk/petitions/323926#debate-threshold']\n",
            "['Make it a legal requirement for nightclubs to thoroughly search guests on entry', 175075, '8 November 2021', 'https://petition.parliament.uk/petitions/598986#debate-threshold']\n",
            "['Limit the Sale and Use of Fireworks to Organisers of Licensed Displays Only', 301611, '8 November 2021', 'https://petition.parliament.uk/petitions/319891#debate-threshold']\n",
            "['Introduce charges on carbon emissions to tackle climate crisis and air pollution', 108802, '1 November 2021', 'https://petition.parliament.uk/petitions/574678#debate-threshold']\n",
            "['Increase funding for research into Endometriosis and PCOS.', 101910, '1 November 2021', 'https://petition.parliament.uk/petitions/328570#debate-threshold']\n",
            "['Reduce University student tuition fees from £9250 to £3000', 581287, '25 October 2021', 'https://petition.parliament.uk/petitions/550344#debate-threshold']\n",
            "['Ban Animal Testing - Fund, accept & promote alternatives to animal testing', 235886, '25 October 2021', 'https://petition.parliament.uk/petitions/581641#debate-threshold']\n",
            "['Plan to phase out animal experiments', 101409, '25 October 2021', 'https://petition.parliament.uk/petitions/590216#debate-threshold']\n",
            "['Outlaw discrimination against those who do not get a Covid-19 vaccination', 347512, '20 September 2021', 'https://petition.parliament.uk/petitions/575801#debate-threshold']\n",
            "['Do not require health and social care workers to take covid-19 vaccination', 109274, '20 September 2021', 'https://petition.parliament.uk/petitions/577842#debate-threshold']\n",
            "['Introduce Mandatory Ethnicity Pay Gap Reporting', 130567, '20 September 2021', 'https://petition.parliament.uk/petitions/300105#debate-threshold']\n",
            "['Stop work on HS2 immediately and hold a new vote to repeal the legislation', 155253, '13 September 2021', 'https://petition.parliament.uk/petitions/563380#debate-threshold']\n",
            "['Commission an independent review of childcare funding and affordability', 113704, '13 September 2021', 'https://petition.parliament.uk/petitions/586700#debate-threshold']\n",
            "['Grant an urgent Amnesty to Undocumented Migrants living in the UK', 103441, '19 July 2021', 'https://petition.parliament.uk/petitions/567681#debate-threshold']\n",
            "[\"FIONA'S LAW - Women should be allowed a yearly Cervical screening\\r\\n \\r\\n\", 146637, '19 July 2021', 'https://petition.parliament.uk/petitions/317336#debate-threshold']\n",
            "['Increase funding for urgent research into devastating motor neurone disease', 110700, '12 July 2021', 'https://petition.parliament.uk/petitions/564582#debate-threshold']\n",
            "['Increase curriculum content about water safety as part of swimming lessons', 108196, '12 July 2021', 'https://petition.parliament.uk/petitions/576563#debate-threshold']\n",
            "['Replace Breed Specific Legislation with a new statutory framework', 118641, '5 July 2021', 'https://petition.parliament.uk/petitions/300561#debate-threshold']\n",
            "[\"Protect the UK's dwindling hedgehog population before it's too late.\", 108329, '5 July 2021', 'https://petition.parliament.uk/petitions/550379#debate-threshold']\n",
            "[\"Teach Britain's colonial past as part of the UK's compulsory curriculum\", 268772, '28 June 2021', 'https://petition.parliament.uk/petitions/324092#debate-threshold']\n",
            "['Fern’s Law: Compulsory to scan & check microchips to reunite stolen dogs, cats.', 112232, '28 June 2021', 'https://petition.parliament.uk/petitions/300010#debate-threshold']\n",
            "['Vets to scan prior to euthanasia for Rescue Back up and confirm keeper details', 121170, '28 June 2021', 'https://petition.parliament.uk/petitions/300025#debate-threshold']\n",
            "['Hold a public inquiry into Government contracts granted during Covid-19', 126876, '21 June 2021', 'https://petition.parliament.uk/petitions/328408#debate-threshold']\n",
            "['Enforce the “50+1” Rule for professional football club ownership in the UK', 107066, '14 June 2021', 'https://petition.parliament.uk/petitions/583310#debate-threshold']\n",
            "['Introduce an Independent Regulator for Football in England by December 2021', 142931, '14 June 2021', 'https://petition.parliament.uk/petitions/584632#debate-threshold']\n",
            "['UK Government to formally recognise the State of Palestine', 131240, '14 June 2021', 'https://petition.parliament.uk/petitions/585313#debate-threshold']\n",
            "['Introduce sanctions against Israel', 388517, '14 June 2021', 'https://petition.parliament.uk/petitions/585314#debate-threshold']\n",
            "['Protect Retail Workers from Abuse, Threats and Violence.', 104354, '7 June 2021', 'https://petition.parliament.uk/petitions/328621#debate-threshold']\n",
            "['The UK should ban the importation of Shark Fins.', 115383, '7 June 2021', 'https://petition.parliament.uk/petitions/300535#debate-threshold']\n",
            "['Ban the exploitative import of young puppies for sale in the UK.', 128552, '7 June 2021', 'https://petition.parliament.uk/petitions/326261#debate-threshold']\n",
            "['Stop the rising number of ear-cropped dogs in the UK', 105844, '7 June 2021', 'https://petition.parliament.uk/petitions/574305#debate-threshold']\n",
            "['End child food poverty – no child should be going hungry', 1113889, '24 May 2021', 'https://petition.parliament.uk/petitions/554276#debate-threshold']\n",
            "['Allow international travel to visit partners and family', 106595, '24 May 2021', 'https://petition.parliament.uk/petitions/565102#debate-threshold']\n",
            "['Do not restrict our rights to peaceful protest.', 256616, '26 April 2021', 'https://petition.parliament.uk/petitions/579012#debate-threshold']\n",
            "['Improve Maternal Mortality Rates and Health Care for Black Women in the U.K.', 187520, '19 April 2021', 'https://petition.parliament.uk/petitions/301079#debate-threshold']\n",
            "['Don’t criminalise trespass', 134933, '19 April 2021', 'https://petition.parliament.uk/petitions/300139#debate-threshold']\n",
            "['Open gyms first as we come out of lockdown & fund a Work Out to Help Out scheme', 230017, '22 March 2021', 'https://petition.parliament.uk/petitions/567492#debate-threshold']\n",
            "['Shut all nurseries and early years settings during lockdown', 103176, '22 March 2021', 'https://petition.parliament.uk/petitions/566718#debate-threshold']\n",
            "['Keep gyms open during Tier 4 lockdown', 180171, '22 March 2021', 'https://petition.parliament.uk/petitions/563904#debate-threshold']\n",
            "['Allow golf to be played with appropriate safety measures', 132728, '22 March 2021', 'https://petition.parliament.uk/petitions/557167#debate-threshold']\n",
            "['Repeal the Coronavirus Act 2020', 102808, '22 March 2021', 'https://petition.parliament.uk/petitions/313310#debate-threshold']\n",
            "['Do not give consent for another Scottish Independence Referendum\\r\\n', 112232, '22 March 2021', 'https://petition.parliament.uk/petitions/570779#debate-threshold']\n",
            "['Close schools in Tier 4 areas', 194882, '15 March 2021', 'https://petition.parliament.uk/petitions/564209#debate-threshold']\n",
            "['Keep schools closed until May', 149470, '15 March 2021', 'https://petition.parliament.uk/petitions/573621#debate-threshold']\n",
            "['Allow teacher predicted grades for BTEC students', 145336, '15 March 2021', 'https://petition.parliament.uk/petitions/548778#debate-threshold']\n",
            "['Cancel GCSE and A-levels in 2021 replace with Course Work and Teacher Assessment', 157810, '15 March 2021', 'https://petition.parliament.uk/petitions/564696#debate-threshold']\n",
            "['Do not rollout Covid-19 vaccine passports', 375208, '15 March 2021', 'https://petition.parliament.uk/petitions/569957#debate-threshold']\n",
            "['Make LGBT conversion therapy illegal in the UK', 256392, '8 March 2021', 'https://petition.parliament.uk/petitions/300976#debate-threshold']\n",
            "['Urge the Indian Government to ensure safety of protestors & press freedom', 116491, '8 March 2021', 'https://petition.parliament.uk/petitions/563473#debate-threshold']\n",
            "['Revoke the TV licence using legislation', 110841, '1 March 2021', 'https://petition.parliament.uk/petitions/300118#debate-threshold']\n",
            "['Trigger Article 16. We want unfettered GB-NI Trade.', 144632, '22 February 2021', 'https://petition.parliament.uk/petitions/573209#debate-threshold']\n",
            "['Seek Europe-wide Visa-free work permit for Touring professionals and Artists', 286797, '8 February 2021', 'https://petition.parliament.uk/petitions/563294#debate-threshold']\n",
            "['We the British People Request a Public Inquiry into Grooming Gangs', 31212, '3 February 2021', 'https://petition.parliament.uk/petitions/327566#debate-threshold']\n",
            "[\"Release the Home Office's Grooming Gang Review in full\", 131626, '3 February 2021', 'https://petition.parliament.uk/petitions/300239#debate-threshold']\n",
            "['Extend the Stamp Duty Holiday for an additional 6 months after 31st March 2021', 151127, '1 February 2021', 'https://petition.parliament.uk/petitions/550545#debate-threshold']\n",
            "['Prioritise teachers, school and childcare staff for Covid-19 vaccination', 508830, '11 January 2021', 'https://petition.parliament.uk/petitions/554316#debate-threshold']\n",
            "['Give further financial support to the Events and Hospitality industry', 45963, '11 January 2021', 'https://petition.parliament.uk/petitions/329985#debate-threshold']\n",
            "['Create a Minister for Hospitality in the UK Government', 209983, '11 January 2021', 'https://petition.parliament.uk/petitions/552201#debate-threshold']\n",
            "['Prevent any restrictions on those who refuse a Covid-19 vaccination', 337144, '14 December 2020', 'https://petition.parliament.uk/petitions/323442#debate-threshold']\n",
            "['Give government workers a fair pay rise', 104704, '14 December 2020', 'https://petition.parliament.uk/petitions/328754#debate-threshold']\n",
            "['Give all key workers a 100% tax and Nat. Ins. holiday through COVID-19 crisis', 146351, '14 December 2020', 'https://petition.parliament.uk/petitions/306845#debate-threshold']\n",
            "['Implement a two week school lockdown before 24 December to save Christmas', 125227, '7 December 2020', 'https://petition.parliament.uk/petitions/549015#debate-threshold']\n",
            "['Keep schools closed until Covid 19 is no longer a threat', 70337, '7 December 2020', 'https://petition.parliament.uk/petitions/316404#debate-threshold']\n",
            "['Reclose schools and colleges due to increase in COVID-19 cases', 428789, '7 December 2020', 'https://petition.parliament.uk/petitions/550846#debate-threshold']\n",
            "['Cancel GCSEs and A Levels in 2021', 211974, '7 December 2020', 'https://petition.parliament.uk/petitions/326066#debate-threshold']\n",
            "['Fund research for childhood cancers with the worst survival rates', 109179, '7 December 2020', 'https://petition.parliament.uk/petitions/300027#debate-threshold']\n",
            "['Scrap removal of free transport for under-18s from TfL bailout', 171010, '30 November 2020', 'https://petition.parliament.uk/petitions/331453#debate-threshold']\n",
            "['Implement sanctions against the Nigerian Government and officials', 221258, '23 November 2020', 'https://petition.parliament.uk/petitions/554150#debate-threshold']\n",
            "['Exempt golf courses from the list of venues required to close due to Covid-19', 257267, '23 November 2020', 'https://petition.parliament.uk/petitions/309851#debate-threshold']\n",
            "['Prevent gyms closing due to a spike in Covid 19 cases', 621440, '23 November 2020', 'https://petition.parliament.uk/petitions/333869#debate-threshold']\n",
            "['Lower university tuition fees for students until online teaching ends', 171137, '16 November 2020', 'https://petition.parliament.uk/petitions/552911#debate-threshold']\n",
            "['Require universities to partially refund tuition fees for 20/21 due to Covid-19', 270659, '16 November 2020', 'https://petition.parliament.uk/petitions/324762#debate-threshold']\n",
            "['Refund university students for 3rd Semester Tuition 2020', 111499, '16 November 2020', 'https://petition.parliament.uk/petitions/306494#debate-threshold']\n",
            "['Reimburse all students of this year’s fees due to strikes and COVID-19', 353129, '16 November 2020', 'https://petition.parliament.uk/petitions/302855#debate-threshold']\n",
            "[\"Require universities to reimburse students' tuition fees during strike action\", 136749, '16 November 2020', 'https://petition.parliament.uk/petitions/300528#debate-threshold']\n",
            "['Omit the NHS from any future trade deal with the US', 111079, '16 November 2020', 'https://petition.parliament.uk/petitions/307339#debate-threshold']\n",
            "['Allow football fans to attend matches at all levels', 200571, '9 November 2020', 'https://petition.parliament.uk/petitions/552036#debate-threshold']\n",
            "['Let Us Dance - Support nightclubs, dance music events and festivals', 146188, '9 November 2020', 'https://petition.parliament.uk/petitions/332789#debate-threshold']\n",
            "['Increase Number of Guests Permitted at Weddings, according to Venue Capacity', 113401, '9 November 2020', 'https://petition.parliament.uk/petitions/329339#debate-threshold']\n",
            "['No prosecution for parents that remove child from school during a pandemic.', 100650, '2 November 2020', 'https://petition.parliament.uk/petitions/300399#debate-threshold']\n",
            "['Take action to stop illegal immigration and rapidly remove illegal immigrants', 126439, '19 October 2020', 'https://petition.parliament.uk/petitions/321862#debate-threshold']\n",
            "['Make pet theft crime a specific offence with custodial sentences.', 143638, '19 October 2020', 'https://petition.parliament.uk/petitions/300071#debate-threshold']\n",
            "['Impose sanctions on China over its treatment of Uyghur Muslims', 146345, '12 October 2020', 'https://petition.parliament.uk/petitions/300146#debate-threshold']\n",
            "['Reduce curriculum content for year 10 & 12 students who will sit exams in 2021.', 148388, '12 October 2020', 'https://petition.parliament.uk/petitions/320772#debate-threshold']\n",
            "['Review the decision to use previous data to calculate exam grades', 148885, '12 October 2020', 'https://petition.parliament.uk/petitions/306773#debate-threshold']\n",
            "['Extend the transition; delay negotiations until after the coronavirus outbreak', 107438, '5 October 2020', 'https://petition.parliament.uk/petitions/300412#debate-threshold']\n",
            "['Extend maternity leave by 3 months with pay in light of COVID-19', 238884, '5 October 2020', 'https://petition.parliament.uk/petitions/306691#debate-threshold']\n",
            "['Offer more support to the arts (particularly Theatres and Music) amidst COVID-19', 179699, '25 June 2020', 'https://petition.parliament.uk/petitions/320711#debate-threshold']\n",
            "['Require councils to suspend council tax payments during the coronavirus outbreak', 107598, '17 September 2020', 'https://petition.parliament.uk/petitions/303274#debate-threshold']\n",
            "['Encourage lenders, landlords and utilities to freeze payments during lockdown', 126934, '17 September 2020', 'https://petition.parliament.uk/petitions/302256#debate-threshold']\n",
            "['Implement Universal Basic Income to give home & food security through Covid-19', 114574, '17 September 2020', 'https://petition.parliament.uk/petitions/302284#debate-threshold']\n",
            "['Allow gyms and leisure centres to reopen', 136163, '15 July 2020', 'https://petition.parliament.uk/petitions/307146#debate-threshold']\n",
            "['We would like the government to consider social care as equally important to NHS', 44984, '25 June 2020', 'https://petition.parliament.uk/petitions/302897#debate-threshold']\n",
            "['Reduce or scrap the immigration health surcharge for overseas NHS Staff.', 16347, '25 June 2020', 'https://petition.parliament.uk/petitions/301948#debate-threshold']\n",
            "['Give non-British citizens who are NHS workers automatic citizenship', 72626, '25 June 2020', 'https://petition.parliament.uk/petitions/305129#debate-threshold']\n",
            "['Increase pay for NHS healthcare workers and recognise their work', 178820, '25 June 2020', 'https://petition.parliament.uk/petitions/300073#debate-threshold']\n",
            "['Extend grants immediately to small businesses outside of SBRR', 26105, '25 June 2020', 'https://petition.parliament.uk/petitions/305024#debate-threshold']\n",
            "['Business Rate Relief to be extended to all small businesses in healthcare.', 10780, '25 June 2020', 'https://petition.parliament.uk/petitions/307959#debate-threshold']\n",
            "['Make nurseries exempt from business rates to support the childcare sector', 11220, '25 June 2020', 'https://petition.parliament.uk/petitions/300210#debate-threshold']\n",
            "['Provide financial support to performers and creators during the COVID-19 crisis', 18137, '25 June 2020', 'https://petition.parliament.uk/petitions/301903#debate-threshold']\n",
            "['Support the British aviation industry during the COVID-19 outbreak', 103040, '25 June 2020', 'https://petition.parliament.uk/petitions/303081#debate-threshold']\n",
            "['Give UK nurseries emergency funding if they have to close down amid COVID-19', 106128, '25 June 2020', 'https://petition.parliament.uk/petitions/301836#debate-threshold']\n",
            "['Provide financial help to zoos, aquariums, & rescue centres during the pandemic.', 135481, '25 June 2020', 'https://petition.parliament.uk/petitions/308733#debate-threshold']\n",
            "['Government to offer economic assistance to the events industry during COVID-19', 154815, '25 June 2020', 'https://petition.parliament.uk/petitions/301186#debate-threshold']\n",
            "143\n"
          ]
        }
      ],
      "source": [
        "repo=[]\n",
        "repaux=[]\n",
        "#loop through each of the three pages\n",
        "for i in [1,2,3]:\n",
        "    #call multiple functions - generate link and get data from the link\n",
        "    repo=extractData(makelink(i))\n",
        "    for axe in repo:\n",
        "        repaux.append(axe)\n",
        "        print(axe) \n",
        "print(len(repaux))"
      ]
    },
    {
      "cell_type": "markdown",
      "metadata": {
        "id": "79aTXBAdwygI"
      },
      "source": []
    },
    {
      "cell_type": "markdown",
      "metadata": {
        "id": "8OBoZH91VgH6"
      },
      "source": [
        "# Get information on a petition for calling an immediate general election\n",
        "\n",
        "There is a recent petition with a large number of signatures on calling a general election. The petition url is here:\n",
        "\n",
        "https://petition.parliament.uk/petitions/619781#debate-threshold\n",
        "\n",
        "\n",
        "In this page, there is a link to API access (in JSON format) for more detailed information of this petition. From it, do the following:\n",
        "\n",
        "- Get the numbers of signatures by parliamentary constituencies\n",
        "- Merge petition signature data with other political data at the electoral constituency level (which we have been using in our lecture/class), and check if there are any relations between political data and number of the signature\n",
        "\n"
      ]
    },
    {
      "cell_type": "markdown",
      "metadata": {
        "id": "LtWVoauUlMOV"
      },
      "source": [
        "## Get the numbers of signatures by parliamentary constituencies (15 percent)\n",
        "\n",
        "- On the details page (https://petition.parliament.uk/petitions/619781#debate-threshold), there is a link to a json file of petition details. \n",
        "- Your tasks here are:\n",
        "  - Get the JSON file\n",
        "  - Extract the information of the number of signatures at the constituency-level \n",
        "  - Construct a dataframe where each row is a parliamentary constituency\n",
        "\n"
      ]
    },
    {
      "cell_type": "code",
      "execution_count": 7,
      "metadata": {
        "id": "X1421IwUdZkI",
        "colab": {
          "base_uri": "https://localhost:8080/"
        },
        "outputId": "67af5f0f-23b0-461b-bfbb-d17084858841"
      },
      "outputs": [
        {
          "output_type": "stream",
          "name": "stdout",
          "text": [
            "[['Aldershot', 1177], ['Aldridge-Brownhills', 641], ['Altrincham and Sale West', 1565], ['Amber Valley', 1067], ['Arundel and South Downs', 1689], ['Ashfield', 957], ['Ashford', 1399], ['Ashton-under-Lyne', 1017], ['Aylesbury', 1515], ['Banbury', 1842], ['Barking', 620], ['Barnsley Central', 994], ['Barnsley East', 782], ['Barrow and Furness', 1186], ['Basildon and Billericay', 763], ['Basingstoke', 1472], ['Bassetlaw', 1045], ['Bath', 2396], ['Batley and Spen', 913], ['Battersea', 1905], ['Beaconsfield', 1147], ['Beckenham', 1424], ['Bedford', 1263], ['Bermondsey and Old Southwark', 2456], ['Berwick-upon-Tweed', 1235], ['Bethnal Green and Bow', 2751], ['Beverley and Holderness', 1275], ['Bexhill and Battle', 1484], ['Bexleyheath and Crayford', 753], ['Birkenhead', 1591], ['Birmingham, Edgbaston', 1140], ['Birmingham, Erdington', 781], ['Birmingham, Hall Green', 1469], ['Birmingham, Hodge Hill', 467], ['Birmingham, Ladywood', 929], ['Birmingham, Northfield', 1283], ['Birmingham, Perry Barr', 615], ['Birmingham, Selly Oak', 1741], ['Birmingham, Yardley', 777], ['Bishop Auckland', 1085], ['Blackburn', 691], ['Blackley and Broughton', 947], ['Blackpool North and Cleveleys', 919], ['Blackpool South', 842], ['Blaydon', 1399], ['Blyth Valley', 1117], ['Bognor Regis and Littlehampton', 1220], ['Bolsover', 1054], ['Bolton North East', 942], ['Bolton South East', 736], ['Bolton West', 1168], ['Bootle', 2152], ['Boston and Skegness', 670], ['Bosworth', 1191], ['Bournemouth East', 1526], ['Bournemouth West', 1338], ['Bracknell', 1344], ['Bradford East', 719], ['Bradford South', 747], ['Bradford West', 649], ['Braintree', 1121], ['Brent Central', 1273], ['Brent North', 613], ['Brentford and Isleworth', 1925], ['Brentwood and Ongar', 929], ['Bridgwater and West Somerset', 1232], ['Brigg and Goole', 782], ['Brighton, Kemptown', 2499], ['Brighton, Pavilion', 4681], ['Bristol East', 2620], ['Bristol North West', 2084], ['Bristol South', 2944], ['Bristol West', 4971], ['Broadland', 1421], ['Bromley and Chislehurst', 1238], ['Bromsgrove', 1206], ['Broxbourne', 760], ['Broxtowe', 1670], ['Buckingham', 1654], ['Burnley', 789], ['Burton', 1026], ['Bury North', 1196], ['Bury South', 1548], ['Bury St Edmunds', 1684], ['Calder Valley', 2158], ['Camberwell and Peckham', 2584], ['Camborne and Redruth', 1504], ['Cambridge', 2966], ['Cannock Chase', 1030], ['Canterbury', 2094], ['Carlisle', 1164], ['Carshalton and Wallington', 1155], ['Castle Point', 665], ['Central Devon', 2000], ['Central Suffolk and North Ipswich', 1335], ['Charnwood', 1014], ['Chatham and Aylesford', 891], ['Cheadle', 1540], ['Chelmsford', 1424], ['Chelsea and Fulham', 1054], ['Cheltenham', 2052], ['Chesham and Amersham', 1398], ['Chesterfield', 1244], ['Chichester', 1758], ['Chingford and Woodford Green', 1168], ['Chippenham', 1892], ['Chipping Barnet', 1711], ['Chorley', 1409], ['Christchurch', 949], ['Cities of London and Westminster', 1505], ['City of Chester', 1861], ['City of Durham', 1505], ['Clacton', 716], ['Cleethorpes', 905], ['Colchester', 1647], ['Colne Valley', 1922], ['Congleton', 1615], ['Copeland', 1019], ['Corby', 1340], ['Coventry North East', 940], ['Coventry North West', 1223], ['Coventry South', 1292], ['Crawley', 1079], ['Crewe and Nantwich', 1475], ['Croydon Central', 1306], ['Croydon North', 1476], ['Croydon South', 1461], ['Dagenham and Rainham', 604], ['Darlington', 1204], ['Dartford', 1032], ['Daventry', 1376], ['Denton and Reddish', 1235], ['Derby North', 1270], ['Derby South', 826], ['Derbyshire Dales', 1485], ['Devizes', 1251], ['Dewsbury', 1072], ['Don Valley', 881], ['Doncaster Central', 932], ['Doncaster North', 845], ['Dover', 1421], ['Dudley North', 624], ['Dudley South', 674], ['Dulwich and West Norwood', 3017], ['Ealing Central and Acton', 2103], ['Ealing North', 919], ['Ealing, Southall', 989], ['Easington', 750], ['East Devon', 1962], ['East Ham', 902], ['East Hampshire', 1565], ['East Surrey', 1363], ['East Worthing and Shoreham', 1908], ['East Yorkshire', 1175], ['Eastbourne', 1699], ['Eastleigh', 1597], ['Eddisbury', 1349], ['Edmonton', 493], ['Ellesmere Port and Neston', 1435], ['Elmet and Rothwell', 1496], ['Eltham', 1405], ['Enfield North', 895], ['Enfield, Southgate', 1332], ['Epping Forest', 977], ['Epsom and Ewell', 1445], ['Erewash', 1262], ['Erith and Thamesmead', 768], ['Esher and Walton', 1795], ['Exeter', 2396], ['Fareham', 1369], ['Faversham and Mid Kent', 1296], ['Feltham and Heston', 664], ['Filton and Bradley Stoke', 1759], ['Finchley and Golders Green', 1673], ['Folkestone and Hythe', 1668], ['Forest of Dean', 1216], ['Fylde', 1246], ['Gainsborough', 1212], ['Garston and Halewood', 2268], ['Gateshead', 1409], ['Gedling', 1617], ['Gillingham and Rainham', 934], ['Gloucester', 1355], ['Gosport', 1106], ['Grantham and Stamford', 1338], ['Gravesham', 822], ['Great Grimsby', 793], ['Great Yarmouth', 833], ['Greenwich and Woolwich', 2312], ['Guildford', 1663], ['Hackney North and Stoke Newington', 3370], ['Hackney South and Shoreditch', 2806], ['Halesowen and Rowley Regis', 869], ['Halifax', 1043], ['Haltemprice and Howden', 1106], ['Halton', 1560], ['Hammersmith', 1749], ['Hampstead and Kilburn', 2184], ['Harborough', 1416], ['Harlow', 803], ['Harrogate and Knaresborough', 1721], ['Harrow East', 531], ['Harrow West', 929], ['Hartlepool', 899], ['Harwich and North Essex', 1289], ['Hastings and Rye', 2224], ['Havant', 1093], ['Hayes and Harlington', 508], ['Hazel Grove', 1309], ['Hemel Hempstead', 1318], ['Hemsworth', 1006], ['Hendon', 945], ['Henley', 1735], ['Hereford and South Herefordshire', 1256], ['Hertford and Stortford', 1781], ['Hertsmere', 947], ['Hexham', 1401], ['Heywood and Middleton', 1100], ['High Peak', 1990], ['Hitchin and Harpenden', 2004], ['Holborn and St Pancras', 2834], ['Hornchurch and Upminster', 787], ['Hornsey and Wood Green', 3588], ['Horsham', 1850], ['Houghton and Sunderland South', 1041], ['Hove', 3524], ['Huddersfield', 1001], ['Huntingdon', 1641], ['Hyndburn', 942], ['Ilford North', 800], ['Ilford South', 602], ['Ipswich', 1383], ['Isle of Wight', 1839], ['Islington North', 2998], ['Islington South and Finsbury', 2209], ['Jarrow', 1175], ['Keighley', 1440], ['Kenilworth and Southam', 1458], ['Kensington', 1204], ['Kettering', 1104], ['Kingston and Surbiton', 1982], ['Kingston upon Hull East', 722], ['Kingston upon Hull North', 1126], ['Kingston upon Hull West and Hessle', 885], ['Kingswood', 1317], ['Knowsley', 1991], ['Lancaster and Fleetwood', 1475], ['Leeds Central', 1574], ['Leeds East', 982], ['Leeds North East', 2033], ['Leeds North West', 1677], ['Leeds West', 1610], ['Leicester East', 460], ['Leicester South', 1154], ['Leicester West', 837], ['Leigh', 1272], ['Lewes', 2405], ['Lewisham East', 1831], ['Lewisham West and Penge', 2749], ['Lewisham, Deptford', 3149], ['Leyton and Wanstead', 1995], ['Lichfield', 1266], ['Lincoln', 1533], ['Liverpool, Riverside', 2736], ['Liverpool, Walton', 1585], ['Liverpool, Wavertree', 1948], ['Liverpool, West Derby', 1752], ['Loughborough', 1362], ['Louth and Horncastle', 941], ['Ludlow', 1240], ['Luton North', 526], ['Luton South', 648], ['Macclesfield', 1724], ['Maidenhead', 1504], ['Maidstone and The Weald', 1365], ['Makerfield', 1149], ['Maldon', 881], ['Manchester Central', 2553], ['Manchester, Gorton', 1567], ['Manchester, Withington', 2902], ['Mansfield', 1029], ['Meon Valley', 1201], ['Meriden', 1128], ['Mid Bedfordshire', 1606], ['Mid Derbyshire', 1376], ['Mid Dorset and North Poole', 1105], ['Mid Norfolk', 1462], ['Mid Sussex', 2008], ['Mid Worcestershire', 1139], ['Middlesbrough', 787], ['Middlesbrough South and East Cleveland', 1117], ['Milton Keynes North', 1710], ['Milton Keynes South', 1648], ['Mitcham and Morden', 1093], ['Mole Valley', 1464], ['Morecambe and Lunesdale', 1132], ['Morley and Outwood', 1469], ['New Forest East', 1069], ['New Forest West', 1048], ['Newark', 1426], ['Newbury', 1630], ['Newcastle upon Tyne Central', 1235], ['Newcastle upon Tyne East', 1738], ['Newcastle upon Tyne North', 1609], ['Newcastle-under-Lyme', 1120], ['Newton Abbot', 1540], ['Normanton, Pontefract and Castleford', 1191], ['North Cornwall', 1380], ['North Devon', 1449], ['North Dorset', 1290], ['North Durham', 1087], ['North East Bedfordshire', 1696], ['North East Cambridgeshire', 1078], ['North East Derbyshire', 1096], ['North East Hampshire', 1467], ['North East Hertfordshire', 1678], ['North East Somerset', 1744], ['North Herefordshire', 1304], ['North Norfolk', 1102], ['North Shropshire', 1393], ['North Somerset', 1923], ['North Swindon', 1320], ['North Thanet', 1187], ['North Tyneside', 1650], ['North Warwickshire', 835], ['North West Cambridgeshire', 1653], ['North West Durham', 1345], ['North West Hampshire', 1407], ['North West Leicestershire', 1286], ['North West Norfolk', 1017], ['North Wiltshire', 1401], ['Northampton North', 931], ['Northampton South', 891], ['Norwich North', 1682], ['Norwich South', 2576], ['Nottingham East', 1686], ['Nottingham North', 815], ['Nottingham South', 1205], ['Nuneaton', 929], ['Old Bexley and Sidcup', 890], ['Oldham East and Saddleworth', 954], ['Oldham West and Royton', 798], ['Orpington', 1047], ['Oxford East', 2452], ['Oxford West and Abingdon', 2336], ['Pendle', 739], ['Penistone and Stocksbridge', 1261], ['Penrith and The Border', 1331], ['Peterborough', 986], ['Plymouth, Moor View', 1129], ['Plymouth, Sutton and Devonport', 2258], ['Poole', 1261], ['Poplar and Limehouse', 2114], ['Portsmouth North', 1081], ['Portsmouth South', 1728], ['Preston', 951], ['Pudsey', 1774], ['Putney', 1644], ['Rayleigh and Wickford', 923], ['Reading East', 1970], ['Reading West', 1465], ['Redcar', 824], ['Redditch', 921], ['Reigate', 1499], ['Ribble Valley', 1400], ['Richmond (Yorks)', 1258], ['Richmond Park', 2345], ['Rochdale', 915], ['Rochester and Strood', 1142], ['Rochford and Southend East', 1236], ['Romford', 814], ['Romsey and Southampton North', 1272], ['Rossendale and Darwen', 1364], ['Rother Valley', 1028], ['Rotherham', 656], ['Rugby', 1319], ['Ruislip, Northwood and Pinner', 1029], ['Runnymede and Weybridge', 1316], ['Rushcliffe', 2099], ['Rutland and Melton', 1281], ['Saffron Walden', 1475], ['Salford and Eccles', 2265], ['Salisbury', 1552], ['Scarborough and Whitby', 1146], ['Scunthorpe', 755], ['Sedgefield', 945], ['Sefton Central', 1923], ['Selby and Ainsty', 1424], ['Sevenoaks', 1226], ['Sheffield Central', 2769], ['Sheffield South East', 916], ['Sheffield, Brightside and Hillsborough', 1131], ['Sheffield, Hallam', 2399], ['Sheffield, Heeley', 1742], ['Sherwood', 1259], ['Shipley', 1785], ['Shrewsbury and Atcham', 1861], ['Sittingbourne and Sheppey', 925], ['Skipton and Ripon', 1597], ['Sleaford and North Hykeham', 1426], ['Slough', 662], ['Solihull', 1058], ['Somerton and Frome', 2150], ['South Basildon and East Thurrock', 792], ['South Cambridgeshire', 2507], ['South Derbyshire', 1250], ['South Dorset', 1357], ['South East Cambridgeshire', 2335], ['South East Cornwall', 1593], ['South Holland and The Deepings', 901], ['South Leicestershire', 1194], ['South Norfolk', 1727], ['South Northamptonshire', 1516], ['South Ribble', 1384], ['South Shields', 964], ['South Staffordshire', 865], ['South Suffolk', 1288], ['South Swindon', 1371], ['South Thanet', 1585], ['South West Bedfordshire', 1353], ['South West Devon', 1437], ['South West Hertfordshire', 1630], ['South West Norfolk', 1122], ['South West Surrey', 1889], ['South West Wiltshire', 1518], ['Southampton, Itchen', 1414], ['Southampton, Test', 1538], ['Southend West', 1279], ['Southport', 1522], ['Spelthorne', 1168], ['St Albans', 1858], ['St Austell and Newquay', 1418], ['St Helens North', 1369], ['St Helens South and Whiston', 1593], ['St Ives', 1690], ['Stafford', 1396], ['Staffordshire Moorlands', 958], ['Stalybridge and Hyde', 1271], ['Stevenage', 1129], ['Stockport', 1838], ['Stockton North', 945], ['Stockton South', 1186], ['Stoke-on-Trent Central', 813], ['Stoke-on-Trent North', 898], ['Stoke-on-Trent South', 890], ['Stone', 1086], ['Stourbridge', 1041], ['Stratford-on-Avon', 1359], ['Streatham', 2534], ['Stretford and Urmston', 1758], ['Stroud', 2414], ['Suffolk Coastal', 1676], ['Sunderland Central', 1193], ['Surrey Heath', 1291], ['Sutton and Cheam', 1160], ['Sutton Coldfield', 1154], ['Tamworth', 961], ['Tatton', 1192], ['Taunton Deane', 1913], ['Telford', 1169], ['Tewkesbury', 1520], ['The Cotswolds', 1639], ['The Wrekin', 1109], ['Thirsk and Malton', 1422], ['Thornbury and Yate', 1282], ['Thurrock', 755], ['Tiverton and Honiton', 1551], ['Tonbridge and Malling', 1382], ['Tooting', 2166], ['Torbay', 1338], ['Torridge and West Devon', 1602], ['Totnes', 1842], ['Tottenham', 2049], ['Truro and Falmouth', 2228], ['Tunbridge Wells', 1708], ['Twickenham', 2563], ['Tynemouth', 2055], ['Uxbridge and South Ruislip', 1008], ['Vauxhall', 2396], ['Wakefield', 1155], ['Wallasey', 1834], ['Walsall North', 611], ['Walsall South', 689], ['Walthamstow', 2623], ['Wansbeck', 1125], ['Wantage', 2322], ['Warley', 778], ['Warrington North', 1168], ['Warrington South', 1715], ['Warwick and Leamington', 1910], ['Washington and Sunderland West', 980], ['Watford', 1355], ['Waveney', 1215], ['Wealden', 1705], ['Weaver Vale', 1587], ['Wellingborough', 1124], ['Wells', 1883], ['Welwyn Hatfield', 1313], ['Wentworth and Dearne', 910], ['West Bromwich East', 578], ['West Bromwich West', 575], ['West Dorset', 1906], ['West Ham', 1704], ['West Lancashire', 1564], ['West Suffolk', 1215], ['West Worcestershire', 1520], ['Westminster North', 1189], ['Westmorland and Lonsdale', 1460], ['Weston-super-Mare', 1627], ['Wigan', 1269], ['Wimbledon', 1896], ['Winchester', 1877], ['Windsor', 1350], ['Wirral South', 1431], ['Wirral West', 1463], ['Witham', 1093], ['Witney', 2046], ['Woking', 1444], ['Wokingham', 1799], ['Wolverhampton North East', 604], ['Wolverhampton South East', 591], ['Wolverhampton South West', 832], ['Worcester', 1556], ['Workington', 1097], ['Worsley and Eccles South', 1307], ['Worthing West', 1830], ['Wycombe', 1246], ['Wyre and Preston North', 1269], ['Wyre Forest', 1086], ['Wythenshawe and Sale East', 1648], ['Yeovil', 1381], ['York Central', 2635], ['York Outer', 1727], ['Belfast East', 696], ['Belfast North', 586], ['Belfast South', 1093], ['Belfast West', 443], ['East Antrim', 457], ['East Londonderry', 379], ['Fermanagh and South Tyrone', 340], ['Foyle', 550], ['Lagan Valley', 536], ['Mid Ulster', 264], ['Newry and Armagh', 346], ['North Antrim', 355], ['North Down', 558], ['South Antrim', 534], ['South Down', 509], ['Strangford', 420], ['Upper Bann', 441], ['West Tyrone', 249], ['Aberdeen North', 1080], ['Aberdeen South', 1097], ['Airdrie and Shotts', 909], ['Angus', 831], ['Argyll and Bute', 1208], ['Ayr, Carrick and Cumnock', 963], ['Banff and Buchan', 669], ['Berwickshire, Roxburgh and Selkirk', 1344], ['Caithness, Sutherland and Easter Ross', 708], ['Central Ayrshire', 972], ['Coatbridge, Chryston and Bellshill', 1200], ['Cumbernauld, Kilsyth and Kirkintilloch East', 1205], ['Dumfries and Galloway', 1129], ['Dumfriesshire, Clydesdale and Tweeddale', 1176], ['Dundee East', 1150], ['Dundee West', 1280], ['Dunfermline and West Fife', 1529], ['East Dunbartonshire', 1396], ['East Kilbride, Strathaven and Lesmahagow', 1521], ['East Lothian', 1834], ['East Renfrewshire', 1386], ['Edinburgh East', 2319], ['Edinburgh North and Leith', 3060], ['Edinburgh South', 1983], ['Edinburgh South West', 1923], ['Edinburgh West', 1642], ['Na h-Eileanan an Iar', 322], ['Falkirk', 1388], ['Glasgow Central', 1734], ['Glasgow East', 987], ['Glasgow North', 1628], ['Glasgow North East', 1042], ['Glasgow North West', 1458], ['Glasgow South', 2019], ['Glasgow South West', 1051], ['Glenrothes', 934], ['Gordon', 1160], ['Inverclyde', 937], ['Inverness, Nairn, Badenoch and Strathspey', 1455], ['Kilmarnock and Loudoun', 1039], ['Kirkcaldy and Cowdenbeath', 1181], ['Lanark and Hamilton East', 1195], ['Linlithgow and East Falkirk', 1454], ['Livingston', 1466], ['Midlothian', 1434], ['Moray', 1055], ['Motherwell and Wishaw', 1053], ['North Ayrshire and Arran', 1087], ['North East Fife', 1211], ['Ochil and South Perthshire', 1432], ['Orkney and Shetland', 612], ['Paisley and Renfrewshire North', 1235], ['Paisley and Renfrewshire South', 1153], ['Perth and North Perthshire', 1316], ['Ross, Skye and Lochaber', 1148], ['Rutherglen and Hamilton West', 1467], ['Stirling', 1463], ['West Aberdeenshire and Kincardine', 1261], ['West Dunbartonshire', 1153], ['Ynys Môn', 940], ['Delyn', 958], ['Alyn and Deeside', 1142], ['Wrexham', 775], ['Llanelli', 1068], ['Gower', 1378], ['Swansea West', 1315], ['Swansea East', 1067], ['Aberavon', 887], ['Cardiff Central', 1501], ['Cardiff North', 1706], ['Rhondda', 869], ['Torfaen', 955], ['Monmouth', 1613], ['Newport East', 1013], ['Newport West', 1225], ['Arfon', 1076], ['Aberconwy', 920], ['Clwyd West', 1062], ['Vale of Clwyd', 914], ['Dwyfor Meirionnydd', 822], ['Clwyd South', 928], ['Montgomeryshire', 895], ['Ceredigion', 1408], ['Preseli Pembrokeshire', 1115], ['Carmarthen West and South Pembrokeshire', 1085], ['Carmarthen East and Dinefwr', 982], ['Brecon and Radnorshire', 1223], ['Neath', 976], ['Cynon Valley', 848], ['Merthyr Tydfil and Rhymney', 806], ['Blaenau Gwent', 647], ['Bridgend', 1154], ['Ogmore', 977], ['Pontypridd', 1254], ['Caerphilly', 1149], ['Islwyn', 818], ['Vale of Glamorgan', 1690], ['Cardiff West', 1879], ['Cardiff South and Penarth', 1922]]\n"
          ]
        }
      ],
      "source": [
        "import urllib.request, json \n",
        "constituency=[]\n",
        "datag =[]\n",
        "with urllib.request.urlopen(\"https://petition.parliament.uk/petitions/619781.json\") as url:\n",
        "    data = json.load(url)\n",
        "    constituency =data[\"data\"][\"attributes\"][\"signatures_by_constituency\"]\n",
        "for i in range(len(constituency)):\n",
        "    datag.append([constituency[i][\"name\"],constituency[i][\"signature_count\"]])\n",
        "\n",
        "print(datag)"
      ]
    },
    {
      "cell_type": "markdown",
      "metadata": {
        "id": "iqDCylg41NE1"
      },
      "source": [
        "## Check the relations with other political variables (25 percent)\n",
        "\n",
        "Here, you will explore the number of signatures with other political variables. \n",
        "\n",
        "- Merge the number of signature data with the political datasets used in week 04 class\n",
        "- See whether some political variables (e.g. Conservative/Labour votes in 2019, Brexit vote percentage) are related to the number of signatures. You can explore (but not limited to) the following relations:\n",
        "  - How are the strength of correlations between political variables and the number of signatures?\n",
        "  - Do you find any regional differences?\n",
        "    - Are there any regions where the correlations are particularly high or low?\n",
        "    - Do you see any interesting things happening in Red Wall regions? (if you don't know what it is, you can read this: https://en.wikipedia.org/wiki/Red_wall_(British_politics) It's a Labour stronghold where the Conservatives did really well in 2019 general election\n",
        "- Write up what you find in roughly 300-400 words\n",
        "\n",
        "Note: \n",
        "- Generate several visualisation that shows the relations (you can use maps if you like, and you can try a hexmap like the one below. The hexmap file is found in `GB_Hex_Cartogram_Const.zip`)\n",
        "\n",
        "\n"
      ]
    },
    {
      "cell_type": "code",
      "execution_count": 9,
      "metadata": {
        "colab": {
          "base_uri": "https://localhost:8080/"
        },
        "id": "pcaGb-vBZMwf",
        "outputId": "3148ab60-f40e-461b-d75b-0a0018222006"
      },
      "outputs": [
        {
          "output_type": "stream",
          "name": "stdout",
          "text": [
            "--2022-11-29 13:22:46--  https://www.dropbox.com/s/l7huuxzbueg3ole/map.png\n",
            "Resolving www.dropbox.com (www.dropbox.com)... 162.125.3.18, 2620:100:6018:18::a27d:312\n",
            "Connecting to www.dropbox.com (www.dropbox.com)|162.125.3.18|:443... connected.\n",
            "HTTP request sent, awaiting response... 302 Found\n",
            "Location: /s/raw/l7huuxzbueg3ole/map.png [following]\n",
            "--2022-11-29 13:22:47--  https://www.dropbox.com/s/raw/l7huuxzbueg3ole/map.png\n",
            "Reusing existing connection to www.dropbox.com:443.\n",
            "HTTP request sent, awaiting response... 302 Found\n",
            "Location: https://uce3a30969123797f32fef00b4d9.dl.dropboxusercontent.com/cd/0/inline/Bxrtcj2M_8CKZSoben4VdjBnBXp-XH9okYqxh_aCcLzXZBGFa01JlHINMQZ1CUGsSzlv1Ea4cv8QgOWAWCqj_LVq9aoJVuUX-O_RFuPRFopuoemYY1fIUohQJIhyZNxA2QosWbCPjGnXvN-Vstg-7kvkE5erCp67zWOHX0NvUyLj-A/file# [following]\n",
            "--2022-11-29 13:22:47--  https://uce3a30969123797f32fef00b4d9.dl.dropboxusercontent.com/cd/0/inline/Bxrtcj2M_8CKZSoben4VdjBnBXp-XH9okYqxh_aCcLzXZBGFa01JlHINMQZ1CUGsSzlv1Ea4cv8QgOWAWCqj_LVq9aoJVuUX-O_RFuPRFopuoemYY1fIUohQJIhyZNxA2QosWbCPjGnXvN-Vstg-7kvkE5erCp67zWOHX0NvUyLj-A/file\n",
            "Resolving uce3a30969123797f32fef00b4d9.dl.dropboxusercontent.com (uce3a30969123797f32fef00b4d9.dl.dropboxusercontent.com)... 162.125.3.15, 2620:100:601b:15::a27d:80f\n",
            "Connecting to uce3a30969123797f32fef00b4d9.dl.dropboxusercontent.com (uce3a30969123797f32fef00b4d9.dl.dropboxusercontent.com)|162.125.3.15|:443... connected.\n",
            "HTTP request sent, awaiting response... 200 OK\n",
            "Length: 101985 (100K) [image/png]\n",
            "Saving to: ‘map.png’\n",
            "\n",
            "map.png             100%[===================>]  99.59K  --.-KB/s    in 0.02s   \n",
            "\n",
            "2022-11-29 13:22:47 (4.28 MB/s) - ‘map.png’ saved [101985/101985]\n",
            "\n",
            "Cloning into 'GV918-UK-politics-data'...\n",
            "remote: Enumerating objects: 52, done.\u001b[K\n",
            "remote: Counting objects: 100% (52/52), done.\u001b[K\n",
            "remote: Compressing objects: 100% (51/51), done.\u001b[K\n",
            "remote: Total 52 (delta 12), reused 0 (delta 0), pack-reused 0\u001b[K\n",
            "Unpacking objects: 100% (52/52), done.\n"
          ]
        }
      ],
      "source": [
        "!wget https://www.dropbox.com/s/l7huuxzbueg3ole/map.png\n",
        "from IPython.display import Image\n",
        "Image(\"/content/map.png\")\n",
        "!git clone https://github.com/University-of-Essex-Dept-of-Government/GV918-UK-politics-data.git"
      ]
    },
    {
      "cell_type": "code",
      "execution_count": null,
      "metadata": {
        "id": "OF4_Wv70iBdv"
      },
      "outputs": [],
      "source": []
    },
    {
      "cell_type": "code",
      "execution_count": null,
      "metadata": {
        "id": "oQ1yF4Exaz3o"
      },
      "outputs": [],
      "source": []
    }
  ],
  "metadata": {
    "colab": {
      "provenance": [],
      "include_colab_link": true
    },
    "kernelspec": {
      "display_name": "Python 3 (ipykernel)",
      "language": "python",
      "name": "python3"
    },
    "language_info": {
      "codemirror_mode": {
        "name": "ipython",
        "version": 3
      },
      "file_extension": ".py",
      "mimetype": "text/x-python",
      "name": "python",
      "nbconvert_exporter": "python",
      "pygments_lexer": "ipython3",
      "version": "3.9.12"
    }
  },
  "nbformat": 4,
  "nbformat_minor": 0
}